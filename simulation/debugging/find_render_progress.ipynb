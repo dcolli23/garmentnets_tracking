{
 "cells": [
  {
   "cell_type": "code",
   "execution_count": 2,
   "metadata": {},
   "outputs": [],
   "source": [
    "import os\n",
    "import subprocess\n",
    "import numpy as np"
   ]
  },
  {
   "cell_type": "code",
   "execution_count": 21,
   "metadata": {},
   "outputs": [
    {
     "ename": "CalledProcessError",
     "evalue": "Command '['grep', '\"Full animation\"', '/home/dcolli23/code/school/rob599_deeprob/projects/final/garmentnets_tracking/simulation/render_other_views_attempt_3.log']' returned non-zero exit status 1.",
     "output_type": "error",
     "traceback": [
      "\u001b[0;31m---------------------------------------------------------------------------\u001b[0m",
      "\u001b[0;31mCalledProcessError\u001b[0m                        Traceback (most recent call last)",
      "\u001b[1;32m/home/dcolli23/code/school/rob599_deeprob/projects/final/garmentnets_tracking/simulation/debugging/find_render_progress.ipynb Cell 2\u001b[0m in \u001b[0;36m<cell line: 3>\u001b[0;34m()\u001b[0m\n\u001b[1;32m      <a href='vscode-notebook-cell://ssh-remote%2Barmadillo/home/dcolli23/code/school/rob599_deeprob/projects/final/garmentnets_tracking/simulation/debugging/find_render_progress.ipynb#W2sdnNjb2RlLXJlbW90ZQ%3D%3D?line=0'>1</a>\u001b[0m render_log \u001b[39m=\u001b[39m os\u001b[39m.\u001b[39mpath\u001b[39m.\u001b[39mabspath(\u001b[39m\"\u001b[39m\u001b[39m../render_other_views_attempt_3.log\u001b[39m\u001b[39m\"\u001b[39m)\n\u001b[1;32m      <a href='vscode-notebook-cell://ssh-remote%2Barmadillo/home/dcolli23/code/school/rob599_deeprob/projects/final/garmentnets_tracking/simulation/debugging/find_render_progress.ipynb#W2sdnNjb2RlLXJlbW90ZQ%3D%3D?line=1'>2</a>\u001b[0m cmd \u001b[39m=\u001b[39m [\u001b[39m\"\u001b[39m\u001b[39mgrep\u001b[39m\u001b[39m\"\u001b[39m ,\u001b[39m\"\u001b[39m\u001b[39m\\\"\u001b[39;00m\u001b[39mFull animation\u001b[39m\u001b[39m\\\"\u001b[39;00m\u001b[39m\"\u001b[39m, render_log]\n\u001b[0;32m----> <a href='vscode-notebook-cell://ssh-remote%2Barmadillo/home/dcolli23/code/school/rob599_deeprob/projects/final/garmentnets_tracking/simulation/debugging/find_render_progress.ipynb#W2sdnNjb2RlLXJlbW90ZQ%3D%3D?line=2'>3</a>\u001b[0m result \u001b[39m=\u001b[39m subprocess\u001b[39m.\u001b[39;49mrun(cmd, capture_output\u001b[39m=\u001b[39;49m\u001b[39mTrue\u001b[39;49;00m, check\u001b[39m=\u001b[39;49m\u001b[39mTrue\u001b[39;49;00m)\n\u001b[1;32m      <a href='vscode-notebook-cell://ssh-remote%2Barmadillo/home/dcolli23/code/school/rob599_deeprob/projects/final/garmentnets_tracking/simulation/debugging/find_render_progress.ipynb#W2sdnNjb2RlLXJlbW90ZQ%3D%3D?line=3'>4</a>\u001b[0m render_times \u001b[39m=\u001b[39m result\u001b[39m.\u001b[39mstdout\u001b[39m.\u001b[39mdecode(\u001b[39m'\u001b[39m\u001b[39mutf-8\u001b[39m\u001b[39m'\u001b[39m)\n\u001b[1;32m      <a href='vscode-notebook-cell://ssh-remote%2Barmadillo/home/dcolli23/code/school/rob599_deeprob/projects/final/garmentnets_tracking/simulation/debugging/find_render_progress.ipynb#W2sdnNjb2RlLXJlbW90ZQ%3D%3D?line=5'>6</a>\u001b[0m \u001b[39mprint\u001b[39m(render_times)\n",
      "File \u001b[0;32m/usr/lib/python3.8/subprocess.py:516\u001b[0m, in \u001b[0;36mrun\u001b[0;34m(input, capture_output, timeout, check, *popenargs, **kwargs)\u001b[0m\n\u001b[1;32m    514\u001b[0m     retcode \u001b[39m=\u001b[39m process\u001b[39m.\u001b[39mpoll()\n\u001b[1;32m    515\u001b[0m     \u001b[39mif\u001b[39;00m check \u001b[39mand\u001b[39;00m retcode:\n\u001b[0;32m--> 516\u001b[0m         \u001b[39mraise\u001b[39;00m CalledProcessError(retcode, process\u001b[39m.\u001b[39margs,\n\u001b[1;32m    517\u001b[0m                                  output\u001b[39m=\u001b[39mstdout, stderr\u001b[39m=\u001b[39mstderr)\n\u001b[1;32m    518\u001b[0m \u001b[39mreturn\u001b[39;00m CompletedProcess(process\u001b[39m.\u001b[39margs, retcode, stdout, stderr)\n",
      "\u001b[0;31mCalledProcessError\u001b[0m: Command '['grep', '\"Full animation\"', '/home/dcolli23/code/school/rob599_deeprob/projects/final/garmentnets_tracking/simulation/render_other_views_attempt_3.log']' returned non-zero exit status 1."
     ]
    }
   ],
   "source": [
    "render_log = os.path.abspath(\"../render_other_views_attempt_3.log\")\n",
    "cmd = [\"grep\" ,\"\\\"Full animation\\\"\", render_log]\n",
    "result = subprocess.run(cmd, capture_output=True, check=True)\n",
    "render_times = result.stdout.decode('utf-8')\n",
    "\n",
    "print(render_times)"
   ]
  },
  {
   "cell_type": "code",
   "execution_count": 20,
   "metadata": {},
   "outputs": [
    {
     "data": {
      "text/plain": [
       "'blender_python_info_printer.py\\nblender_util\\nblender_util_dylan\\ncloth_3d_util\\ncommon\\ndata\\ndata_packager\\ndebugging\\n__init__.py\\nio_util\\nlogs\\npipeline\\nPipfile\\nPipfile.lock\\nprint_blender_python_info.sh\\n__pycache__\\nREADME.md\\nrender_other_views_attempt_3.log\\nrunners\\nscript_output\\n'"
      ]
     },
     "execution_count": 20,
     "metadata": {},
     "output_type": "execute_result"
    }
   ],
   "source": [
    "# subprocess.run(['ls'], stdout=subprocess.PIPE).stdout.decode('utf-8')\n",
    "# result.stderr\n",
    "subprocess.run(['ls', '..'], stdout=subprocess.PIPE).stdout.decode('utf-8')"
   ]
  },
  {
   "cell_type": "code",
   "execution_count": null,
   "metadata": {},
   "outputs": [],
   "source": [
    "render_times = [\n",
    "326.03105505136773,\n",
    "394.40636583510786,\n",
    "279.90282503608614,\n",
    "290.75377368787304,\n",
    "465.9251339100301,\n",
    "338.7834563180804,\n",
    "347.35747296595946,\n",
    "200.98530352395028,\n",
    "242.6923177568242,\n",
    "262.90500159887597,\n",
    "249.34428068390116,\n",
    "439.94930787198246,\n",
    "336.9057492390275,\n",
    "203.82381544541568,\n",
    "296.99174852017313,\n",
    "363.00067428313196,\n",
    "152.0938123166561,\n",
    "467.2363153467886,\n",
    "395.0731955701485,\n",
    "299.654471765738,\n",
    "172.12380520394072,\n",
    "193.76393969682977,\n",
    "231.9887137049809,\n",
    "183.80515561904758,\n",
    "303.6219084118493,\n",
    "236.5254897158593,\n",
    "357.9422600180842,\n",
    "253.05097992811352,\n",
    "262.1528596379794,\n",
    "352.3839846197516,\n",
    "294.18999519897625,\n",
    "366.29583051102236,\n",
    "243.83941231714562,\n",
    "255.39118042914197,\n",
    "323.67575182113796,\n",
    "240.86618840694427,\n",
    "328.5018276460469,\n",
    "268.5362143353559,\n",
    "174.6901494008489,\n",
    "258.63977349502966,\n",
    "220.59707290679216,\n",
    "201.56337603973225,\n",
    "246.00261297496036,\n",
    "340.7369291661307,\n",
    "296.4306429247372,\n",
    "261.998466135934,\n",
    "186.29229338793084,\n",
    "177.7428747289814,\n",
    "268.7180711296387,\n",
    "340.04058208316565,\n",
    "183.5088051976636,\n",
    "436.6528604682535,\n",
    "237.8148505911231,\n",
    "198.631829821039,\n",
    "341.98435737518594,\n",
    "329.6002247170545,\n",
    "277.15379795478657,\n",
    "302.78979305690154,\n",
    "342.0732665308751,\n",
    "331.1164797130041,\n",
    "280.53551897220314,\n",
    "400.3071030001156,\n",
    "258.4895431641489,\n",
    "257.4787835883908,\n",
    "292.4783329661004,\n",
    "210.546843086835,\n",
    "203.26277658483014,\n",
    "]\n",
    "render_progress = len(render_times) / (25 * 5)\n",
    "print(\"Num completed full Tshirt trajectories:\", len(render_times) // 25)\n",
    "print(\"Num renders remaining in trajectory group:\", 25 - len(render_times) % 25)\n",
    "print(\"Render progress:\", render_progress * 100)\n",
    "mrt = np.mean(render_times)\n",
    "print(\"Mean render:\", mrt)\n",
    "print(\"Expected remaining hours:\", (mrt * (1.0 - render_progress) * 25*5) /60**2)"
   ]
  }
 ],
 "metadata": {
  "kernelspec": {
   "display_name": "Python 3",
   "language": "python",
   "name": "python3"
  },
  "language_info": {
   "codemirror_mode": {
    "name": "ipython",
    "version": 3
   },
   "file_extension": ".py",
   "mimetype": "text/x-python",
   "name": "python",
   "nbconvert_exporter": "python",
   "pygments_lexer": "ipython3",
   "version": "3.8.10"
  },
  "orig_nbformat": 4
 },
 "nbformat": 4,
 "nbformat_minor": 2
}
