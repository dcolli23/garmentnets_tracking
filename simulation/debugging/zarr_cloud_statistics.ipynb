{
 "cells": [
  {
   "cell_type": "code",
   "execution_count": 1,
   "metadata": {},
   "outputs": [],
   "source": [
    "# Want to make sure the Zarred point clouds I'm putting in the dataset match the distribution of\n",
    "# expected points in Cheng's dataset"
   ]
  },
  {
   "cell_type": "code",
   "execution_count": 2,
   "metadata": {},
   "outputs": [],
   "source": [
    "import zarr\n",
    "import numpy as np"
   ]
  },
  {
   "cell_type": "code",
   "execution_count": 3,
   "metadata": {},
   "outputs": [],
   "source": [
    "z = zarr.open(\"/home/dcolli23/code/school/rob599_deeprob/projects/final/garmentnets_tracking/data/garmentnets_tracking_simulation_dataset_shortened.zarr\")\n",
    "z_orig = zarr.open(\"/home/dcolli23/code/school/rob599_deeprob/projects/final/garmentnets_tracking/data/garmentnets_simulation_dataset_sample.zarr\")"
   ]
  },
  {
   "cell_type": "code",
   "execution_count": 4,
   "metadata": {},
   "outputs": [
    {
     "name": "stdout",
     "output_type": "stream",
     "text": [
      "Sample: 00380_Tshirt_509\n",
      "--------------------------------------------------------------------------------\n",
      "XYZ Comparison at t=0\n",
      "\tCheng's cloud stats: | min: [-0.1843 -0.1121 -0.6685] | max: [ 0.1622    0.1101   -0.005077] | std: [0.02806 0.01872 0.1059 ]\n",
      "\tOur cloud stats: | min: [-0.11523 -0.128   -0.673  ] | max: [ 0.1665   0.1382  -0.00547] | std: [0.02615 0.02615 0.1046 ]\n",
      "RGB Comparison at t=0\n",
      "\tCheng's cloud stats: | min: [ 3 13  7] | max: [143 186 159] | std: [17.36414687 20.83240303 19.66328287]\n",
      "\tOur cloud stats: | min: [ 8 17 17] | max: [133 186 151] | std: [15.0085898  18.58095829 17.494503  ]\n",
      "Our t=50 XYZ cloud stats: | min: [-0.1094 -0.0762 -0.2013] | max: [0.1467 0.1296 0.4768] | std: [0.02692 0.01906 0.0761 ]\n",
      "Our t=50 RGB cloud stats: | min: [ 5 22 12] | max: [135 186 153] | std: [14.72235304 18.37958582 17.25090597]\n",
      "Translating dynamics configuration back to origin\n",
      "\tUsing gripper deltas:\n",
      "\tmin: [-0.1331468  -0.16258747 -0.687464  ] | max: [ 0.12295671  0.04322308 -0.00936341] | std: [0.05728563 0.04670656 0.16061703]\n",
      "\tUsing grasped index\n",
      "\tmin: [-0.1367 -0.1184 -0.6797] | max: [ 0.1194    0.0874   -0.001465] | std: [0.02098 0.01903 0.10767]\n",
      "\n",
      "Sample: 00471_Tshirt_153\n",
      "--------------------------------------------------------------------------------\n",
      "XYZ Comparison at t=0\n",
      "\tCheng's cloud stats: | min: [-0.1095 -0.0958 -0.9194] | max: [ 0.10834   0.0983   -0.003124] | std: [0.0175 0.0175 0.14  ]\n",
      "\tOur cloud stats: | min: [-0.09375 -0.10547 -0.8843 ] | max: [ 0.12305   0.1997   -0.003515] | std: [0.01639 0.03058 0.1311 ]\n",
      "RGB Comparison at t=0\n",
      "\tCheng's cloud stats: | min: [5 2 0] | max: [175 174 167] | std: [20.75014513 37.26713123 34.23939831]\n",
      "\tOur cloud stats: | min: [0 0 0] | max: [175 174 168] | std: [19.71835114 36.77947943 32.72623384]\n",
      "Our t=50 XYZ cloud stats: | min: [-0.07227 -0.07623 -0.4702 ] | max: [0.1954 0.1989 0.4133] | std: [0.03333 0.03333 0.06665]\n",
      "Our t=50 RGB cloud stats: | min: [5 3 0] | max: [175 173 166] | std: [19.35000283 37.07912735 32.20982519]\n",
      "Translating dynamics configuration back to origin\n",
      "\tUsing gripper deltas:\n",
      "\tmin: [-0.19222239 -0.20979385 -0.88669792] | max: [ 0.07547781  0.0652916  -0.003153  ] | std: [0.05531402 0.05923455 0.21068407]\n",
      "\tUsing grasped index\n",
      "\tmin: [-0.1797 -0.1953 -0.891 ] | max: [ 0.088    0.0798  -0.00757] | std: [0.02356 0.03333 0.1333 ]\n",
      "\n"
     ]
    }
   ],
   "source": [
    "for sample_key in ['00380_Tshirt_509', '00471_Tshirt_153']:\n",
    "    print(\"Sample:\", sample_key)\n",
    "    print(80 * '-')\n",
    "    grasped_index = int(sample_key.split('_')[-1])\n",
    "    cloud_cheng = z_orig[f\"/Tshirt/samples/{sample_key}/point_cloud/point\"][:]\n",
    "    rgb_cheng = z_orig[f\"/Tshirt/samples/{sample_key}/point_cloud/rgb\"][:]\n",
    "    cloud_mine = z[f\"/Tshirt/samples/{sample_key}/point_cloud/point\"][:]\n",
    "    rgb_mine = z[f\"/Tshirt/samples/{sample_key}/point_cloud/rgb\"][:]\n",
    "\n",
    "    print('XYZ Comparison at t=0')\n",
    "    print(f\"\\tCheng's cloud stats: | min: {cloud_cheng.min(axis=0)} | max: {cloud_cheng.max(axis=0)} | std: {cloud_cheng.std(axis=0)}\")\n",
    "    print(f\"\\tOur cloud stats: | min: {cloud_mine.min(axis=0)} | max: {cloud_mine.max(axis=0)} | std: {cloud_mine.std(axis=0)}\")\n",
    "\n",
    "    print('RGB Comparison at t=0')\n",
    "    print(f\"\\tCheng's cloud stats: | min: {rgb_cheng.min(axis=0)} | max: {rgb_cheng.max(axis=0)} | std: {rgb_cheng.std(axis=0)}\")\n",
    "    print(f\"\\tOur cloud stats: | min: {rgb_mine.min(axis=0)} | max: {rgb_mine.max(axis=0)} | std: {rgb_mine.std(axis=0)}\")\n",
    "\n",
    "    dynamics_key = f\"/Tshirt/samples/{sample_key}/dynamics/0/point_cloud/timestep_50\"\n",
    "    dynamics_clouds = []\n",
    "    rgb_clouds = []\n",
    "    for i in range(4):\n",
    "        dynamics_cloud_group = z[dynamics_key + f\"/view_{i}/point\"]\n",
    "        # print(dynamics_cloud_group)\n",
    "        dynamics_cloud = dynamics_cloud_group[:]\n",
    "        dynamics_clouds.append(dynamics_cloud)\n",
    "        \n",
    "        rgb_cloud = z[dynamics_key + f\"/view_{i}/rgb\"][:]\n",
    "        rgb_clouds.append(rgb_cloud)\n",
    "        \n",
    "\n",
    "\n",
    "        # print(f\"\\tOur t=50 view_{i} cloud stats: | min: {dynamics_cloud.min()} | max:\n",
    "        # {dynamics_cloud.max()} | std: {dynamics_cloud.std()}\")\n",
    "    rgb_clouds = np.concatenate(rgb_clouds, axis=0)\n",
    "    dynamics_clouds = np.concatenate(dynamics_clouds, axis=0)\n",
    "    print(f\"Our t=50 XYZ cloud stats: | min: {dynamics_clouds.min(axis=0)} | max: {dynamics_clouds.max(axis=0)} | std: {dynamics_clouds.std(axis=0)}\")\n",
    "    print(f\"Our t=50 RGB cloud stats: | min: {rgb_clouds.min(axis=0)} | max: {rgb_clouds.max(axis=0)} | std: {rgb_clouds.std(axis=0)}\")\n",
    "\n",
    "    gripper_deltas = z[f\"/Tshirt/samples/{sample_key}/dynamics/0/delta_gripper_pos\"][:]\n",
    "    \n",
    "    gripper_translations = np.cumsum(gripper_deltas, axis=0) + np.array((0,0,0.4))\n",
    "    print(\"Translating dynamics configuration back to origin\")\n",
    "    print(\"\\tUsing gripper deltas:\")\n",
    "    trans = gripper_translations[50, :]\n",
    "    dynamics_clouds_translated = dynamics_clouds - trans\n",
    "    print(f\"\\tmin: {dynamics_clouds_translated.min(axis=0)} | max: {dynamics_clouds_translated.max(axis=0)} | std: {dynamics_clouds_translated.std(axis=0)}\")\n",
    "\n",
    "    print(\"\\tUsing grasped index\")\n",
    "    trans = dynamics_clouds[grasped_index, :] - cloud_mine[grasped_index, :]\n",
    "    dynamics_clouds_translated = dynamics_clouds - trans\n",
    "    print(f\"\\tmin: {dynamics_clouds_translated.min(axis=0)} | max: {dynamics_clouds_translated.max(axis=0)} | std: {dynamics_clouds_translated.std(axis=0)}\")\n",
    "    # print(f\"Our t=50 view_{i} translated cloud stats: | min: {dynamics_clouds_translated.min(axis=0)} | max: {dynamics_clouds_translated.max(axis=0)} | std: {dynamics_clouds_translated.std(axis=0)}\")\n",
    "\n",
    "    print()"
   ]
  },
  {
   "cell_type": "code",
   "execution_count": 36,
   "metadata": {},
   "outputs": [],
   "source": [
    "import open3d as o3d\n",
    "\n",
    "# xyz_data = np.concatenate((cloud_cheng, dynamics_clouds), axis=0)\n",
    "xyz_data = o3d.utility.Vector3dVector(dynamics_clouds)\n",
    "rgb_data = o3d.utility.Vector3dVector(rgb_clouds / 255.)\n",
    "\n",
    "pcd = o3d.geometry.PointCloud()\n",
    "pcd.colors = o3d.utility.Vector3dVector(rgb_data)\n",
    "pcd.points = o3d.utility.Vector3dVector(xyz_data)\n",
    "o3d.visualization.draw_geometries([pcd])"
   ]
  },
  {
   "attachments": {},
   "cell_type": "markdown",
   "metadata": {},
   "source": [
    "## Reading A Dynamics Point Cloud From Zarr And Visualizing Via Open3D"
   ]
  },
  {
   "cell_type": "code",
   "execution_count": 3,
   "metadata": {},
   "outputs": [
    {
     "name": "stdout",
     "output_type": "stream",
     "text": [
      "Jupyter environment detected. Enabling Open3D WebVisualizer.\n",
      "[Open3D INFO] WebRTC GUI backend enabled.\n",
      "[Open3D INFO] WebRTCWindowSystem: HTTP handshake server disabled.\n"
     ]
    }
   ],
   "source": [
    "z = zarr.open(\"/home/dcolli23/code/school/rob599_deeprob/projects/final/garmentnets_tracking/data/garmentnets_tracking_simulation_dataset_shortened.zarr\")\n",
    "\n",
    "# Get the point clouds for each of the 4 views.\n",
    "dynamics_key = f\"/Tshirt/samples/00471_Tshirt_153/dynamics/0/point_cloud/timestep_50\"\n",
    "dynamics_clouds = []\n",
    "rgb_clouds = []\n",
    "for i in range(4):\n",
    "    dynamics_cloud_group = z[dynamics_key + f\"/view_{i}/point\"]\n",
    "    # print(dynamics_cloud_group)\n",
    "    dynamics_cloud = dynamics_cloud_group[:]\n",
    "    dynamics_clouds.append(dynamics_cloud)\n",
    "    \n",
    "    rgb_cloud = z[dynamics_key + f\"/view_{i}/rgb\"][:]\n",
    "    rgb_clouds.append(rgb_cloud)\n",
    "\n",
    "# Concatenate the point clouds to get one full pointcloud\n",
    "rgb_clouds = np.concatenate(rgb_clouds, axis=0)\n",
    "dynamics_clouds = np.concatenate(dynamics_clouds, axis=0)\n",
    "\n",
    "import open3d as o3d\n",
    "\n",
    "xyz_data = o3d.utility.Vector3dVector(dynamics_clouds)\n",
    "rgb_data = o3d.utility.Vector3dVector(rgb_clouds / 255.)\n",
    "\n",
    "pcd = o3d.geometry.PointCloud()\n",
    "pcd.colors = o3d.utility.Vector3dVector(rgb_data)\n",
    "pcd.points = o3d.utility.Vector3dVector(xyz_data)\n",
    "o3d.visualization.draw_geometries([pcd])"
   ]
  },
  {
   "cell_type": "code",
   "execution_count": null,
   "metadata": {},
   "outputs": [],
   "source": []
  }
 ],
 "metadata": {
  "kernelspec": {
   "display_name": "Python 3.10.11 ('simulation-7NaVsHdv')",
   "language": "python",
   "name": "python3"
  },
  "language_info": {
   "codemirror_mode": {
    "name": "ipython",
    "version": 3
   },
   "file_extension": ".py",
   "mimetype": "text/x-python",
   "name": "python",
   "nbconvert_exporter": "python",
   "pygments_lexer": "ipython3",
   "version": "3.8.10"
  },
  "orig_nbformat": 4,
  "vscode": {
   "interpreter": {
    "hash": "ed7f320b0bb21722de29e1b61058df1eb6cc93ec2c9b7f0e9041cd394f87c774"
   }
  }
 },
 "nbformat": 4,
 "nbformat_minor": 2
}
