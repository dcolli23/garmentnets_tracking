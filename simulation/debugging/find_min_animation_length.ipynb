{
 "cells": [
  {
   "cell_type": "code",
   "execution_count": 1,
   "metadata": {},
   "outputs": [],
   "source": [
    "import os\n",
    "import sys\n",
    "from pathlib import Path\n",
    "import pickle"
   ]
  },
  {
   "cell_type": "code",
   "execution_count": 2,
   "metadata": {},
   "outputs": [],
   "source": [
    "DATA_ROOT = Path(\"../script_output/full_dataset_attempt_2/\")"
   ]
  },
  {
   "cell_type": "code",
   "execution_count": 4,
   "metadata": {},
   "outputs": [
    {
     "name": "stdout",
     "output_type": "stream",
     "text": [
      "76\n"
     ]
    }
   ],
   "source": [
    "frame_end_min = 1e10\n",
    "for sample_dir in DATA_ROOT.iterdir():\n",
    "    for seq_dir in sample_dir.iterdir():\n",
    "        if seq_dir.is_dir():\n",
    "            # Load results data pickle file.\n",
    "            results_path = seq_dir / \"dynamics_sim_results.pkl\"\n",
    "            results_dict = pickle.load(results_path.open('rb'))\n",
    "            frame_end_min = min(frame_end_min, results_dict[\"simulation_info\"][\"frame_end\"])\n",
    "print(frame_end_min)"
   ]
  },
  {
   "cell_type": "code",
   "execution_count": null,
   "metadata": {},
   "outputs": [],
   "source": []
  }
 ],
 "metadata": {
  "kernelspec": {
   "display_name": "Python 3.10.11 ('simulation-7NaVsHdv')",
   "language": "python",
   "name": "python3"
  },
  "language_info": {
   "codemirror_mode": {
    "name": "ipython",
    "version": 3
   },
   "file_extension": ".py",
   "mimetype": "text/x-python",
   "name": "python",
   "nbconvert_exporter": "python",
   "pygments_lexer": "ipython3",
   "version": "3.8.10"
  },
  "orig_nbformat": 4,
  "vscode": {
   "interpreter": {
    "hash": "ed7f320b0bb21722de29e1b61058df1eb6cc93ec2c9b7f0e9041cd394f87c774"
   }
  }
 },
 "nbformat": 4,
 "nbformat_minor": 2
}
