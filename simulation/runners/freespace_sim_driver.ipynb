{
 "cells": [
  {
   "attachments": {},
   "cell_type": "markdown",
   "metadata": {},
   "source": [
    "# Freespace Garment Simulation\n",
    "\n",
    "Notebook for simulating garments moving in freespace. This will ultimately be used to generate training data for the tracking model we're putting together.\n",
    "\n",
    "**Note:** We probably want to have two modes:\n",
    "- Simple dynamics where the cloth behaves like a quasi-rigid object.\n",
    "  - This should be easy-peasy for the network to track since it's essentially a rigid body dynamics problem if the gripper is moving slowly enough.\n",
    "- More complicated dynamics where the cloth deforms due to the \"gripper\" moving faster than the cloth can reach a quasi-static state.\n",
    "  - This will be harder for the network to predict but it should still be possible.\n",
    "\n",
    "Ultimately we probably won't want hard distinctions between the two modes of operation but splitting them like this will help me to develop the functions/classes necessary to write the data generation pipeline.\n",
    "\n",
    "## TODO\n",
    "\n",
    "- ~~Set animation interpolation scheme to 'linear' to simplify things here.~~\n",
    "  - ~~Seems like you can do `keyframe_variable.interpolation = \"LINEAR\"`~~\n",
    "  - Actually, smooth motion is probably preferable. Linear is too sharp.\n",
    "    - Can maybe edit F-Curve properties to make it sharper if necessary?"
   ]
  },
  {
   "cell_type": "code",
   "execution_count": 1,
   "metadata": {},
   "outputs": [
    {
     "name": "stdout",
     "output_type": "stream",
     "text": [
      "WARN (bgl): source/blender/python/generic/bgl.c:2654 BPyInit_bgl: 'bgl' imported without an OpenGL backend. Please update your add-ons to use the 'gpu' module. In Blender 4.0 'bgl' will be removed.\n"
     ]
    },
    {
     "name": "stderr",
     "output_type": "stream",
     "text": [
      "/home/dcolli23/.local/share/virtualenvs/simulation-7NaVsHdv/lib/python3.10/site-packages/numpy/core/getlimits.py:518: UserWarning: The value of the smallest subnormal for <class 'numpy.float64'> type is zero.\n",
      "  setattr(self, word, getattr(machar, word).flat[0])\n",
      "/home/dcolli23/.local/share/virtualenvs/simulation-7NaVsHdv/lib/python3.10/site-packages/numpy/core/getlimits.py:89: UserWarning: The value of the smallest subnormal for <class 'numpy.float64'> type is zero.\n",
      "  return self._float_to_str(self.smallest_subnormal)\n",
      "/home/dcolli23/.local/share/virtualenvs/simulation-7NaVsHdv/lib/python3.10/site-packages/numpy/core/getlimits.py:518: UserWarning: The value of the smallest subnormal for <class 'numpy.float32'> type is zero.\n",
      "  setattr(self, word, getattr(machar, word).flat[0])\n",
      "/home/dcolli23/.local/share/virtualenvs/simulation-7NaVsHdv/lib/python3.10/site-packages/numpy/core/getlimits.py:89: UserWarning: The value of the smallest subnormal for <class 'numpy.float32'> type is zero.\n",
      "  return self._float_to_str(self.smallest_subnormal)\n"
     ]
    }
   ],
   "source": [
    "import os\n",
    "import sys\n",
    "from pathlib import Path\n",
    "\n",
    "import bpy\n",
    "import mathutils\n",
    "import numpy as np\n",
    "\n",
    "# Imports from this repository\n",
    "sys.path.append(\"../../\")\n",
    "sys.path.append(\"../\")\n",
    "from simulation.cloth_3d_util.accessor import Cloth3DCanonicalAccessor\n",
    "from simulation.cloth_3d_util.util import loadInfo\n",
    "from simulation.pipeline.simulate_garment_hanging_rest_state import \\\n",
    "    simulate_garment_hanging_rest_state\n",
    "from simulation.blender_util_dylan.physics import set_sim_output_as_default_mesh_shape\n",
    "from simulation.blender_util_dylan.checkpointer import BlendFileCheckpointer\n",
    "from simulation.blender_util_dylan.gripper_animation import GripperAnimation\n",
    "\n",
    "%load_ext autoreload\n",
    "%autoreload 2"
   ]
  },
  {
   "cell_type": "code",
   "execution_count": 2,
   "metadata": {},
   "outputs": [],
   "source": [
    "FILE_ROOT = Path(os.getcwd())\n",
    "CLOTH3D_PATH = Path(os.path.expanduser(\"~/DataLocker/datasets/CLOTH3D/training/\"))\n",
    "OUTPUT_ROOT = FILE_ROOT / \"..\" / \"script_output\" / \"sim_pipeline_driver_test\"\n",
    "\n",
    "# Make the output directory if it doesn't exist.\n",
    "OUTPUT_ROOT.mkdir(exist_ok=True)\n",
    "\n",
    "\n",
    "PLANE_OFFSET = 0.025  # [m]"
   ]
  },
  {
   "cell_type": "code",
   "execution_count": 3,
   "metadata": {},
   "outputs": [],
   "source": [
    "sample_configuration = {\n",
    "    \"sample_id\": \"00380\",\n",
    "    \"garment_name\": \"Tshirt\",\n",
    "    \"grip_vertex_idx\": 0\n",
    "}\n",
    "\n",
    "smpl_simulation_duration_pair = (0, 120)\n",
    "\n",
    "sample_configs = [sample_configuration]"
   ]
  },
  {
   "cell_type": "markdown",
   "metadata": {},
   "source": [
    "## Start With Simple Freespace Dynamics\n",
    "\n",
    "This is where the garment behaves much like a rigid body during motion, meaning the gripper will have to move fairly slowly.\n",
    "\n",
    "I think this should be packaged up to where we have a routine for simulating one freespace motion in one 3D vector direction. Doing anything more complicated would introduce the possibility of complicated dynamics.\n",
    "\n",
    "I just baked a garment simulation in Blender and moving in direction $[0, 0, -1]^T$ over 100 frames with a velocities:\n",
    "- $0.0016 / \\text{frame}$ was fine.\n",
    "- $0.0032 / \\text{frame}$ was fine.\n",
    "- $0.0064 / \\text{frame}$ looked okay. I suspect that if it was in the $X$ or $Y$ direction it would be less okay.\n",
    "\n",
    "Moving in $[1, 0, 0]^T$ direction.\n",
    "- $0.0064 / \\text{frame}$ looked fine even with linear interpolation."
   ]
  },
  {
   "cell_type": "code",
   "execution_count": 4,
   "metadata": {},
   "outputs": [],
   "source": [
    "# Example of what the freespace dynamics arguments could look like.\n",
    "# grip_lowering_args = {\n",
    "#     \"initial_sim_end_frame\": smpl_simulation_duration_pair[1],\n",
    "#     \"start_frame\": 1,\n",
    "#     \"end_frame\": 100,\n",
    "#     \"fraction_lowered\": 0.25, # Fraction of the cloth that will be lowered onto the table.\n",
    "# }\n",
    "\n",
    "# class FreespaceSimpleSimArgs:\n",
    "#     def __init__(self, direction_vec: np.ndarray, velocity: float, )\n",
    "\n",
    "# freespace_sim_args = {\n",
    "#     \"direction\": np.array((1.0, 0.0, 0.0))\n",
    "# }\n",
    "\n"
   ]
  },
  {
   "cell_type": "markdown",
   "metadata": {},
   "source": [
    "### See if Cheng's Gripper Animation Utilities Still Work With New Blender Versions"
   ]
  },
  {
   "cell_type": "code",
   "execution_count": 5,
   "metadata": {},
   "outputs": [],
   "source": [
    "## Setup the simulation.\n",
    "accessor = Cloth3DCanonicalAccessor(CLOTH3D_PATH)\n",
    "config = sample_configs[0]\n",
    "sample_key = f\"{config['sample_id']}_{config['garment_name']}_{config['grip_vertex_idx']}_simple_dynamics\"\n",
    "sample_dir = OUTPUT_ROOT / sample_key\n",
    "sample_dir.mkdir(exist_ok=True)\n",
    "\n",
    "result_file = \"simulation_result.pk\"\n",
    "result_path = sample_dir / result_file\n",
    "\n",
    "# Get a dictionary containing the data for this sample garment.\n",
    "sample_data = accessor.get_sample_data(**config)\n",
    "\n",
    "garment_info_mat_filename = CLOTH3D_PATH / config[\"sample_id\"] / \"info.mat\"\n",
    "garment_info = loadInfo(garment_info_mat_filename)\n",
    "\n",
    "# if result_path.exists():\n",
    "#     print(f\"WARNING! Result file, '{result_path}', already exists! Skipping this run. Reading result instead\")\n",
    "#     result_data = pickle.load(result_path.open('rb'))\n",
    "\n",
    "checkpointer = BlendFileCheckpointer(sample_dir, save_new_checkpoints=True)"
   ]
  },
  {
   "cell_type": "code",
   "execution_count": 22,
   "metadata": {},
   "outputs": [
    {
     "name": "stdout",
     "output_type": "stream",
     "text": [
      "Hanging state checkpoint exists. Loading checkpoint from file.\n",
      "Read blend: /home/dcolli23/code/school/rob599_deeprob/projects/final/garmentnets_tracking/simulation/runners/../script_output/sim_pipeline_driver_test/00380_Tshirt_0_simple_dynamics/hanging_rest_state.blend\n",
      "Successfully reloaded hanging rest state checkpoint.\n"
     ]
    }
   ],
   "source": [
    "# Confirmed to work as expected!\n",
    "if checkpointer.does_rest_state_checkpoint_exist():\n",
    "    print(\"Hanging state checkpoint exists. Loading checkpoint from file.\")\n",
    "    # Load the checkpoint instead of simulating the resting state again.\n",
    "    checkpointer.load_hanging_rest_state()\n",
    "else:\n",
    "    print(\"Hanging state checkpoint does not exist. Simulating and saving checkpoint.\")\n",
    "    # Run the SMPL simulation to get the garment in a stationary hanging configuration\n",
    "    frames_to_resting_state = 120\n",
    "    result_data_smpl = simulate_garment_hanging_rest_state(config, sample_data, frames_to_resting_state)\n",
    "\n",
    "    # Then set the default mesh shape to this shape\n",
    "    cloth_obj = bpy.data.objects[\"cloth\"]\n",
    "    set_sim_output_as_default_mesh_shape(cloth_obj, frames_to_resting_state)\n",
    "\n",
    "    # Now create a checkpoint for this so we don't have to resimulate every time we run this\n",
    "    # notebook.\n",
    "    checkpointer.save_hanging_rest_state()"
   ]
  },
  {
   "attachments": {},
   "cell_type": "markdown",
   "metadata": {},
   "source": [
    "## Planning Dynamics Routines\n",
    "\n",
    "Now that we've simulated the garment hanging rest state and set that as the default mesh shape, we can start doing dynamics runs.\n",
    "\n",
    "We will control the motion of the \"gripper\" (empty object that the cloth vertices are pinned to) by controlling the keyframes - the trajectory points - and the F-curves - the interpolation method between keyframes.\n",
    "\n",
    "For Blender, the following is required for the definitions:\n",
    "- Each keypoint needs to be defined by:\n",
    "    - Object origin location\n",
    "    - Frame with which to insert the keyframe\n",
    "- F-curves - default is Bezier with pretty reasonable parametrs\n",
    "  - For linear control, no parameters are needed.\n",
    "  - For other interpolation methods I'm unsure.\n",
    "\n",
    "**TODO:** Decide on Fcurve interpolation scheme (linear or not?). Non-linear seems preferable?\n",
    "- Let's just use the default F-Curves and get as far as we can with this setting.\n",
    "**TODO:** Decide on programmatic representation. Velocity control with a unit direction vector seems reasonable.\n",
    "\n",
    "For keyframe insertion, can potentially follow this pattern:\n",
    "```python\n",
    "obj = bpy.context.active_object  # Or however else we get the object pointer\n",
    "for keyframe_frame, obj_location in (keyframes):\n",
    "    obj.location = obj_location  # I believe this can be a flat numpy array\n",
    "    obj.keyframe_insert(data_path=\"location\",\n",
    "                        index=-1,  # indicates to place the keyframe last\n",
    "                        group=group,  # group name F-curve added to if it doesn't exist\n",
    "                        frame=keyframe_frame)\n",
    "```"
   ]
  },
  {
   "cell_type": "code",
   "execution_count": 23,
   "metadata": {},
   "outputs": [],
   "source": [
    "# Manually add an initial keyframe to test out the GripperAnimation class\n",
    "cloth_obj = bpy.data.objects[\"cloth\"]\n",
    "# cloth_obj.animation_data_clear()\n",
    "# cloth_obj.keyframe_insert(data_path=\"location\", frame=0, group=\"gripper_action_1\")"
   ]
  },
  {
   "cell_type": "code",
   "execution_count": 24,
   "metadata": {},
   "outputs": [
    {
     "name": "stdout",
     "output_type": "stream",
     "text": [
      "Starting gripper keyframe frame: 0\n"
     ]
    }
   ],
   "source": [
    "# print(cloth_obj.animation_data.action.fcurves)\n",
    "# [print(a) for a in cloth_obj.animation_data.action.fcurves]\n",
    "gripper_animation = GripperAnimation(cloth_obj)\n",
    "\n",
    "# for fcurve in cloth_obj.animation_data.action.fcurves:\n",
    "#     print(type(fcurve))\n",
    "#     print(\"fcurve array_index:\", fcurve.array_index)\n",
    "#     print(fcurve.data_path)\n",
    "#     print(fcurve.group.name)\n",
    "#     # print(fcurve.keyframe_points[0].co)  # Same thing as what's shown below\n",
    "#     print(len(fcurve.keyframe_points))\n",
    "#     for keyframe in fcurve.keyframe_points:\n",
    "#         print('\\t', keyframe.co)"
   ]
  },
  {
   "cell_type": "code",
   "execution_count": 25,
   "metadata": {},
   "outputs": [
    {
     "name": "stdout",
     "output_type": "stream",
     "text": [
      "<Vector (0.0473, 0.0639, -0.1397)>\n",
      "0\n"
     ]
    }
   ],
   "source": [
    "print(cloth_obj.location)\n",
    "print(bpy.context.scene.frame_current)\n",
    "# bpy.context.scene.frame_set(0)\n",
    "# print(cloth_obj.location)\n",
    "# print(bpy.context.scene.frame_current)"
   ]
  },
  {
   "cell_type": "code",
   "execution_count": 26,
   "metadata": {},
   "outputs": [],
   "source": [
    "direction_vec = np.array((1.0, 0.0, 0.0))\n",
    "# velocity = 0.0064  # in old units of m / frame\n",
    "velocity_mps = 0.15  # [meters / second]\n",
    "gripper_animation.add_movement(direction_vec, velocity_mps, end_frame=50)\n",
    "\n",
    "direction_vec = np.array((0.0, -1.0, 0.0))\n",
    "gripper_animation.add_movement(direction_vec, velocity_mps, end_frame=100)"
   ]
  },
  {
   "cell_type": "code",
   "execution_count": 27,
   "metadata": {},
   "outputs": [],
   "source": [
    "def print_object_keyframe_locations(obj: bpy.types.Object):\n",
    "    loc_idx_map = {0: 'x', 1: 'y', 2: 'z'}\n",
    "    locs = {'x': [], 'y': [], 'z': []}\n",
    "    keyframe_frames = {'x': [], 'y': [], 'z': []}\n",
    "\n",
    "    for fcurve in obj.animation_data.action.fcurves:\n",
    "        axis_key = loc_idx_map[fcurve.array_index]\n",
    "        coordinate_locations = locs[axis_key]\n",
    "        coordinate_frames = keyframe_frames[axis_key]\n",
    "\n",
    "        for pt in fcurve.keyframe_points:\n",
    "            # TODO: The pt.co is two values instead of one? Maybe the first value is the frame.\n",
    "            # The second value is definitely the cartesian coordinate.\n",
    "            coordinate_frames.append(pt.co[0])\n",
    "            coordinate_locations.append(pt.co[1])\n",
    "            \n",
    "\n",
    "    print(\"Locations:\", locs)"
   ]
  },
  {
   "cell_type": "code",
   "execution_count": 28,
   "metadata": {},
   "outputs": [
    {
     "name": "stdout",
     "output_type": "stream",
     "text": [
      "Locations: {'x': [0.04728107154369354, 0.35978108644485474, 0.35978108644485474], 'y': [0.06388848274946213, 0.06388848274946213, -0.24861150979995728], 'z': [-0.1396816223859787, -0.1396816223859787, -0.1396816223859787]}\n"
     ]
    }
   ],
   "source": [
    "print_object_keyframe_locations(cloth_obj)"
   ]
  },
  {
   "cell_type": "code",
   "execution_count": 29,
   "metadata": {},
   "outputs": [
    {
     "name": "stdout",
     "output_type": "stream",
     "text": [
      "Info: Saved \"gripper_animation_check.blend\"\n"
     ]
    },
    {
     "data": {
      "text/plain": [
       "{'FINISHED'}"
      ]
     },
     "execution_count": 29,
     "metadata": {},
     "output_type": "execute_result"
    }
   ],
   "source": [
    "bpy.ops.wm.save_as_mainfile(filepath=(sample_dir / \"gripper_animation_check.blend\").as_posix())"
   ]
  },
  {
   "cell_type": "markdown",
   "metadata": {},
   "source": [
    "## Complicated Dynamics\n",
    "\n",
    "I **may** want to animate the \"gripper\" on a Bezier curve to make introducing non-rigid behavior into the cloth easier. \n",
    "\n",
    "Another (simpler) option is to just move the gripper faster in a single direction.\n",
    "**Note:** I imagine the *impulse* is what's important here. Quickly changing the velocity of the gripper.\n",
    "- Due to this, I might have to change the Fcurve for the \"gripper\" motion to linear so that it quickly jerks the cloth instead of the typical smooth interpolation scheme."
   ]
  },
  {
   "cell_type": "code",
   "execution_count": null,
   "metadata": {},
   "outputs": [],
   "source": []
  }
 ],
 "metadata": {
  "kernelspec": {
   "display_name": "Python 3.10.11 ('simulation-7NaVsHdv')",
   "language": "python",
   "name": "python3"
  },
  "language_info": {
   "codemirror_mode": {
    "name": "ipython",
    "version": 3
   },
   "file_extension": ".py",
   "mimetype": "text/x-python",
   "name": "python",
   "nbconvert_exporter": "python",
   "pygments_lexer": "ipython3",
   "version": "3.10.11"
  },
  "orig_nbformat": 4,
  "vscode": {
   "interpreter": {
    "hash": "ed7f320b0bb21722de29e1b61058df1eb6cc93ec2c9b7f0e9041cd394f87c774"
   }
  }
 },
 "nbformat": 4,
 "nbformat_minor": 2
}
