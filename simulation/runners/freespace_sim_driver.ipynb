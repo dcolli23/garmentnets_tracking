{
 "cells": [
  {
   "cell_type": "markdown",
   "metadata": {},
   "source": [
    "# Freespace Garment Simulation\n",
    "\n",
    "Notebook for simulating garments moving in freespace. This will ultimately be used to generate training data for the tracking model we're putting together.\n",
    "\n",
    "**Note:** We probably want to have two modes:\n",
    "- Simple dynamics where the cloth behaves like a quasi-rigid object.\n",
    "  - This should be easy-peasy for the network to track since it's essentially a rigid body dynamics problem if the gripper is moving slowly enough.\n",
    "- More complicated dynamics where the cloth deforms due to the \"gripper\" moving faster than the cloth can reach a quasi-static state.\n",
    "  - This will be harder for the network to predict but it should still be possible.\n",
    "\n",
    "Ultimately we probably won't want hard distinctions between the two modes of operation but splitting them like this will help me to develop the functions/classes necessary to write the data generation pipeline.\n",
    "\n",
    "## TODO\n",
    "\n",
    "- Set animation interpolation scheme to 'linear' to simplify things here.\n",
    "  - Seems like you can do `keyframe_variable.interpolation = \"LINEAR\"`"
   ]
  },
  {
   "cell_type": "code",
   "execution_count": 1,
   "metadata": {},
   "outputs": [
    {
     "name": "stdout",
     "output_type": "stream",
     "text": [
      "WARN (bgl): source/blender/python/generic/bgl.c:2654 BPyInit_bgl: 'bgl' imported without an OpenGL backend. Please update your add-ons to use the 'gpu' module. In Blender 4.0 'bgl' will be removed.\n"
     ]
    },
    {
     "name": "stderr",
     "output_type": "stream",
     "text": [
      "/home/dcolli23/.local/share/virtualenvs/simulation-7NaVsHdv/lib/python3.10/site-packages/numpy/core/getlimits.py:518: UserWarning: The value of the smallest subnormal for <class 'numpy.float64'> type is zero.\n",
      "  setattr(self, word, getattr(machar, word).flat[0])\n",
      "/home/dcolli23/.local/share/virtualenvs/simulation-7NaVsHdv/lib/python3.10/site-packages/numpy/core/getlimits.py:89: UserWarning: The value of the smallest subnormal for <class 'numpy.float64'> type is zero.\n",
      "  return self._float_to_str(self.smallest_subnormal)\n",
      "/home/dcolli23/.local/share/virtualenvs/simulation-7NaVsHdv/lib/python3.10/site-packages/numpy/core/getlimits.py:518: UserWarning: The value of the smallest subnormal for <class 'numpy.float32'> type is zero.\n",
      "  setattr(self, word, getattr(machar, word).flat[0])\n",
      "/home/dcolli23/.local/share/virtualenvs/simulation-7NaVsHdv/lib/python3.10/site-packages/numpy/core/getlimits.py:89: UserWarning: The value of the smallest subnormal for <class 'numpy.float32'> type is zero.\n",
      "  return self._float_to_str(self.smallest_subnormal)\n"
     ]
    }
   ],
   "source": [
    "import os\n",
    "import sys\n",
    "from pathlib import Path\n",
    "\n",
    "import bpy\n",
    "import numpy as np\n",
    "\n",
    "# Imports from this repository\n",
    "sys.path.append(\"../../\")\n",
    "sys.path.append(\"../\")\n",
    "from simulation.cloth_3d_util.accessor import Cloth3DCanonicalAccessor\n",
    "from simulation.cloth_3d_util.util import loadInfo\n",
    "from simulation.pipeline.simulate_garment_hanging_rest_state import \\\n",
    "    simulate_garment_hanging_rest_state\n",
    "from simulation.blender_util_dylan.physics import set_sim_output_as_default_mesh_shape\n",
    "from simulation.blender_util_dylan.checkpointer import BlendFileCheckpointer"
   ]
  },
  {
   "cell_type": "code",
   "execution_count": 2,
   "metadata": {},
   "outputs": [],
   "source": [
    "FILE_ROOT = Path(os.getcwd())\n",
    "CLOTH3D_PATH = Path(os.path.expanduser(\"~/DataLocker/datasets/CLOTH3D/training/\"))\n",
    "OUTPUT_ROOT = FILE_ROOT / \"..\" / \"script_output\" / \"sim_pipeline_driver_test\"\n",
    "\n",
    "# Make the output directory if it doesn't exist.\n",
    "OUTPUT_ROOT.mkdir(exist_ok=True)\n",
    "\n",
    "\n",
    "PLANE_OFFSET = 0.025  # [m]"
   ]
  },
  {
   "cell_type": "code",
   "execution_count": 3,
   "metadata": {},
   "outputs": [],
   "source": [
    "sample_configuration = {\n",
    "    \"sample_id\": \"00380\",\n",
    "    \"garment_name\": \"Tshirt\",\n",
    "    \"grip_vertex_idx\": 0\n",
    "}\n",
    "\n",
    "smpl_simulation_duration_pair = (0, 120)\n",
    "\n",
    "sample_configs = [sample_configuration]"
   ]
  },
  {
   "cell_type": "markdown",
   "metadata": {},
   "source": [
    "## Start With Simple Freespace Dynamics\n",
    "\n",
    "This is where the garment behaves much like a rigid body during motion, meaning the gripper will have to move fairly slowly.\n",
    "\n",
    "I think this should be packaged up to where we have a routine for simulating one freespace motion in one 3D vector direction. Doing anything more complicated would introduce the possibility of complicated dynamics.\n",
    "\n",
    "I just baked a garment simulation in Blender and moving in direction $[0, 0, -1]^T$ over 100 frames with a velocities:\n",
    "- $0.0016 / \\text{frame}$ was fine.\n",
    "- $0.0032 / \\text{frame}$ was fine.\n",
    "- $0.0064 / \\text{frame}$ looked okay. I suspect that if it was in the $X$ or $Y$ direction it would be less okay.\n",
    "\n",
    "Moving in $[1, 0, 0]^T$ direction.\n",
    "- $0.0064 / \\text{frame}$ looked fine even with linear interpolation."
   ]
  },
  {
   "cell_type": "code",
   "execution_count": 4,
   "metadata": {},
   "outputs": [],
   "source": [
    "# Example of what the freespace dynamics arguments could look like.\n",
    "# grip_lowering_args = {\n",
    "#     \"initial_sim_end_frame\": smpl_simulation_duration_pair[1],\n",
    "#     \"start_frame\": 1,\n",
    "#     \"end_frame\": 100,\n",
    "#     \"fraction_lowered\": 0.25, # Fraction of the cloth that will be lowered onto the table.\n",
    "# }\n",
    "\n",
    "# class FreespaceSimpleSimArgs:\n",
    "#     def __init__(self, direction_vec: np.ndarray, velocity: float, )\n",
    "\n",
    "# freespace_sim_args = {\n",
    "#     \"direction\": np.array((1.0, 0.0, 0.0))\n",
    "# }\n",
    "\n"
   ]
  },
  {
   "cell_type": "markdown",
   "metadata": {},
   "source": [
    "### See if Cheng's Gripper Animation Utilities Still Work With New Blender Versions"
   ]
  },
  {
   "cell_type": "code",
   "execution_count": 5,
   "metadata": {},
   "outputs": [],
   "source": [
    "## Setup the simulation.\n",
    "accessor = Cloth3DCanonicalAccessor(CLOTH3D_PATH)\n",
    "config = sample_configs[0]\n",
    "sample_key = f\"{config['sample_id']}_{config['garment_name']}_{config['grip_vertex_idx']}_simple_dynamics\"\n",
    "sample_dir = OUTPUT_ROOT / sample_key\n",
    "sample_dir.mkdir(exist_ok=True)\n",
    "\n",
    "result_file = \"simulation_result.pk\"\n",
    "result_path = sample_dir / result_file\n",
    "\n",
    "# Get a dictionary containing the data for this sample garment.\n",
    "sample_data = accessor.get_sample_data(**config)\n",
    "\n",
    "garment_info_mat_filename = CLOTH3D_PATH / config[\"sample_id\"] / \"info.mat\"\n",
    "garment_info = loadInfo(garment_info_mat_filename)\n",
    "\n",
    "# if result_path.exists():\n",
    "#     print(f\"WARNING! Result file, '{result_path}', already exists! Skipping this run. Reading result instead\")\n",
    "#     result_data = pickle.load(result_path.open('rb'))\n",
    "\n",
    "checkpointer = BlendFileCheckpointer(sample_dir, save_new_checkpoints=True)"
   ]
  },
  {
   "cell_type": "code",
   "execution_count": 10,
   "metadata": {},
   "outputs": [
    {
     "name": "stdout",
     "output_type": "stream",
     "text": [
      "Hanging state checkpoint exists. Loading checkpoint from file.\n",
      "Read blend: /home/dcolli23/code/school/rob599_deeprob/projects/final/garmentnets_tracking/simulation/runners/../script_output/sim_pipeline_driver_test/00380_Tshirt_0_simple_dynamics/hanging_rest_state.blend\n",
      "Successfully reloaded hanging rest state checkpoint.\n"
     ]
    }
   ],
   "source": [
    "# Confirmed to work as expected!\n",
    "if checkpointer.does_rest_state_checkpoint_exist():\n",
    "    print(\"Hanging state checkpoint exists. Loading checkpoint from file.\")\n",
    "    # Load the checkpoint instead of simulating the resting state again.\n",
    "    checkpointer.load_hanging_rest_state()\n",
    "else:\n",
    "    print(\"Hanging state checkpoint does not exist. Simulating and saving checkpoint.\")\n",
    "    # Run the SMPL simulation to get the garment in a stationary hanging configuration\n",
    "    frames_to_resting_state = 120\n",
    "    result_data_smpl = simulate_garment_hanging_rest_state(config, sample_data, frames_to_resting_state)\n",
    "\n",
    "    # Then set the default mesh shape to this shape\n",
    "    cloth_obj = bpy.data.objects[\"cloth\"]\n",
    "    set_sim_output_as_default_mesh_shape(cloth_obj, frames_to_resting_state)\n",
    "\n",
    "    # Now create a checkpoint for this so we don't have to resimulate every time we run this\n",
    "    # notebook.\n",
    "    checkpointer.save_hanging_rest_state()"
   ]
  },
  {
   "cell_type": "markdown",
   "metadata": {},
   "source": [
    "Now that we've simulated the garment hanging rest state and set that as the default mesh shape, we can start doing dynamics runs."
   ]
  },
  {
   "cell_type": "code",
   "execution_count": 11,
   "metadata": {},
   "outputs": [
    {
     "name": "stdout",
     "output_type": "stream",
     "text": [
      "Info: Saved \"sanity_check.blend\"\n"
     ]
    },
    {
     "data": {
      "text/plain": [
       "{'FINISHED'}"
      ]
     },
     "execution_count": 11,
     "metadata": {},
     "output_type": "execute_result"
    }
   ],
   "source": []
  },
  {
   "cell_type": "code",
   "execution_count": null,
   "metadata": {},
   "outputs": [],
   "source": []
  },
  {
   "cell_type": "code",
   "execution_count": null,
   "metadata": {},
   "outputs": [],
   "source": []
  },
  {
   "cell_type": "markdown",
   "metadata": {},
   "source": [
    "## Complicated Dynamics\n",
    "\n",
    "I **may** want to animate the \"gripper\" on a Bezier curve to make introducing non-rigid behavior into the cloth easier. \n",
    "\n",
    "Another (simpler) option is to just move the gripper faster in a single direction.\n",
    "**Note:** I imagine the *impulse* is what's important here. Quickly changing the velocity of the gripper.\n",
    "- Due to this, I might have to change the Fcurve for the \"gripper\" motion to linear so that it quickly jerks the cloth instead of the typical smooth interpolation scheme."
   ]
  },
  {
   "cell_type": "code",
   "execution_count": null,
   "metadata": {},
   "outputs": [],
   "source": []
  }
 ],
 "metadata": {
  "kernelspec": {
   "display_name": "Python 3.10.11 ('simulation-7NaVsHdv')",
   "language": "python",
   "name": "python3"
  },
  "language_info": {
   "codemirror_mode": {
    "name": "ipython",
    "version": 3
   },
   "file_extension": ".py",
   "mimetype": "text/x-python",
   "name": "python",
   "nbconvert_exporter": "python",
   "pygments_lexer": "ipython3",
   "version": "3.10.11"
  },
  "orig_nbformat": 4,
  "vscode": {
   "interpreter": {
    "hash": "ed7f320b0bb21722de29e1b61058df1eb6cc93ec2c9b7f0e9041cd394f87c774"
   }
  }
 },
 "nbformat": 4,
 "nbformat_minor": 2
}
