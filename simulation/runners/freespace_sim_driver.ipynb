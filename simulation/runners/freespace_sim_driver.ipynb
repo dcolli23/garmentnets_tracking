{
 "cells": [
  {
   "attachments": {},
   "cell_type": "markdown",
   "metadata": {},
   "source": [
    "# Freespace Garment Simulation\n",
    "\n",
    "Notebook for simulating garments moving in freespace. This will ultimately be used to generate training data for the tracking model we're putting together.\n",
    "\n",
    "**Note:** We probably want to have two modes:\n",
    "- Simple dynamics where the cloth behaves like a quasi-rigid object.\n",
    "  - This should be easy-peasy for the network to track since it's essentially a rigid body dynamics problem if the gripper is moving slowly enough.\n",
    "- More complicated dynamics where the cloth deforms due to the \"gripper\" moving faster than the cloth can reach a quasi-static state.\n",
    "  - This will be harder for the network to predict but it should still be possible.\n",
    "\n",
    "Ultimately we probably won't want hard distinctions between the two modes of operation but splitting them like this will help me to develop the functions/classes necessary to write the data generation pipeline.\n",
    "\n",
    "## TODO\n",
    "\n",
    "- ~~Set animation interpolation scheme to 'linear' to simplify things here.~~\n",
    "  - ~~Seems like you can do `keyframe_variable.interpolation = \"LINEAR\"`~~\n",
    "  - Actually, smooth motion is probably preferable. Linear is too sharp.\n",
    "    - Can maybe edit F-Curve properties to make it sharper if necessary?"
   ]
  },
  {
   "cell_type": "code",
   "execution_count": 14,
   "metadata": {},
   "outputs": [
    {
     "name": "stdout",
     "output_type": "stream",
     "text": [
      "The autoreload extension is already loaded. To reload it, use:\n",
      "  %reload_ext autoreload\n"
     ]
    }
   ],
   "source": [
    "import os\n",
    "import sys\n",
    "from pathlib import Path\n",
    "\n",
    "import bpy\n",
    "import mathutils\n",
    "import numpy as np\n",
    "\n",
    "# Imports from this repository\n",
    "sys.path.append(\"../../\")\n",
    "sys.path.append(\"../\")\n",
    "from simulation.cloth_3d_util.accessor import Cloth3DCanonicalAccessor\n",
    "from simulation.cloth_3d_util.util import loadInfo\n",
    "from simulation.pipeline.simulate_garment_hanging_rest_state import \\\n",
    "    simulate_garment_hanging_rest_state\n",
    "from simulation.blender_util_dylan.physics import set_sim_output_as_default_mesh_shape\n",
    "from simulation.blender_util_dylan.checkpointer import BlendFileCheckpointer\n",
    "from simulation.blender_util_dylan.gripper import GripperAnimation\n",
    "from simulation.blender_util_dylan.debug import print_obj_keyframe_coordinates\n",
    "\n",
    "%load_ext autoreload\n",
    "%autoreload 2"
   ]
  },
  {
   "cell_type": "code",
   "execution_count": 3,
   "metadata": {},
   "outputs": [],
   "source": [
    "FILE_ROOT = Path(os.getcwd())\n",
    "CLOTH3D_PATH = Path(os.path.expanduser(\"~/DataLocker/datasets/CLOTH3D/training/\"))\n",
    "OUTPUT_ROOT = FILE_ROOT / \"..\" / \"script_output\" / \"sim_pipeline_driver_test\"\n",
    "\n",
    "# Make the output directory if it doesn't exist.\n",
    "OUTPUT_ROOT.mkdir(exist_ok=True)\n",
    "\n",
    "\n",
    "PLANE_OFFSET = 0.025  # [m]"
   ]
  },
  {
   "cell_type": "code",
   "execution_count": 4,
   "metadata": {},
   "outputs": [],
   "source": [
    "sample_configuration = {\n",
    "    \"sample_id\": \"00380\",\n",
    "    \"garment_name\": \"Tshirt\",\n",
    "    \"grip_vertex_idx\": 0\n",
    "}\n",
    "\n",
    "smpl_simulation_duration_pair = (0, 120)\n",
    "\n",
    "sample_configs = [sample_configuration]"
   ]
  },
  {
   "cell_type": "markdown",
   "metadata": {},
   "source": [
    "## Start With Simple Freespace Dynamics\n",
    "\n",
    "This is where the garment behaves much like a rigid body during motion, meaning the gripper will have to move fairly slowly.\n",
    "\n",
    "I think this should be packaged up to where we have a routine for simulating one freespace motion in one 3D vector direction. Doing anything more complicated would introduce the possibility of complicated dynamics.\n",
    "\n",
    "I just baked a garment simulation in Blender and moving in direction $[0, 0, -1]^T$ over 100 frames with a velocities:\n",
    "- $0.0016 / \\text{frame}$ was fine.\n",
    "- $0.0032 / \\text{frame}$ was fine.\n",
    "- $0.0064 / \\text{frame}$ looked okay. I suspect that if it was in the $X$ or $Y$ direction it would be less okay.\n",
    "\n",
    "Moving in $[1, 0, 0]^T$ direction.\n",
    "- $0.0064 / \\text{frame}$ looked fine even with linear interpolation."
   ]
  },
  {
   "cell_type": "code",
   "execution_count": 5,
   "metadata": {},
   "outputs": [],
   "source": [
    "# Example of what the freespace dynamics arguments could look like.\n",
    "# grip_lowering_args = {\n",
    "#     \"initial_sim_end_frame\": smpl_simulation_duration_pair[1],\n",
    "#     \"start_frame\": 1,\n",
    "#     \"end_frame\": 100,\n",
    "#     \"fraction_lowered\": 0.25, # Fraction of the cloth that will be lowered onto the table.\n",
    "# }\n",
    "\n",
    "# class FreespaceSimpleSimArgs:\n",
    "#     def __init__(self, direction_vec: np.ndarray, velocity: float, )\n",
    "\n",
    "# freespace_sim_args = {\n",
    "#     \"direction\": np.array((1.0, 0.0, 0.0))\n",
    "# }\n",
    "\n"
   ]
  },
  {
   "cell_type": "markdown",
   "metadata": {},
   "source": [
    "### Dynamics Checkpointing: Simulate Or Load Hanging Resting State\n",
    "\n",
    "The point of checkpointing is so that we don't have to resimulate the grasped resting state every time we want to run a new dynamics simulation on the same garment."
   ]
  },
  {
   "cell_type": "code",
   "execution_count": 6,
   "metadata": {},
   "outputs": [],
   "source": [
    "## Setup the simulation.\n",
    "accessor = Cloth3DCanonicalAccessor(CLOTH3D_PATH)\n",
    "config = sample_configs[0]\n",
    "sample_key = f\"{config['sample_id']}_{config['garment_name']}_{config['grip_vertex_idx']}_simple_dynamics\"\n",
    "sample_dir = OUTPUT_ROOT / sample_key\n",
    "sample_dir.mkdir(exist_ok=True)\n",
    "\n",
    "result_file = \"simulation_result.pk\"\n",
    "result_path = sample_dir / result_file\n",
    "\n",
    "# Get a dictionary containing the data for this sample garment.\n",
    "sample_data = accessor.get_sample_data(**config)\n",
    "\n",
    "garment_info_mat_filename = CLOTH3D_PATH / config[\"sample_id\"] / \"info.mat\"\n",
    "garment_info = loadInfo(garment_info_mat_filename)\n",
    "\n",
    "checkpointer = BlendFileCheckpointer(sample_dir, save_new_checkpoints=True)"
   ]
  },
  {
   "cell_type": "code",
   "execution_count": 7,
   "metadata": {},
   "outputs": [
    {
     "name": "stdout",
     "output_type": "stream",
     "text": [
      "Hanging state checkpoint exists. Loading checkpoint from file.\n",
      "Read blend: /home/dcolli23/code/school/rob599_deeprob/projects/final/garmentnets_tracking/simulation/runners/../script_output/sim_pipeline_driver_test/00380_Tshirt_0_simple_dynamics/hanging_rest_state.blend\n",
      "Successfully reloaded hanging rest state checkpoint.\n"
     ]
    }
   ],
   "source": [
    "# Confirmed to work as expected!\n",
    "if checkpointer.does_rest_state_checkpoint_exist():\n",
    "    print(\"Hanging state checkpoint exists. Loading checkpoint from file.\")\n",
    "    # Load the checkpoint instead of simulating the resting state again.\n",
    "    checkpointer.load_hanging_rest_state()\n",
    "else:\n",
    "    print(\"Hanging state checkpoint does not exist. Simulating and saving checkpoint.\")\n",
    "    # Run the SMPL simulation to get the garment in a stationary hanging configuration\n",
    "    frames_to_resting_state = 120\n",
    "    result_data_smpl = simulate_garment_hanging_rest_state(config, sample_data, frames_to_resting_state)\n",
    "\n",
    "    # Then set the default mesh shape to this shape\n",
    "    cloth_obj = bpy.data.objects[\"cloth\"]\n",
    "    set_sim_output_as_default_mesh_shape(cloth_obj, frames_to_resting_state)\n",
    "\n",
    "    # Now create a checkpoint for this so we don't have to resimulate every time we run this\n",
    "    # notebook.\n",
    "    checkpointer.save_hanging_rest_state()"
   ]
  },
  {
   "attachments": {},
   "cell_type": "markdown",
   "metadata": {},
   "source": [
    "## Planning Dynamics Routines\n",
    "\n",
    "Now that we've simulated the garment hanging rest state and set that as the default mesh shape, we can start doing dynamics runs.\n",
    "\n",
    "We will control the motion of the \"gripper\" (empty object that the cloth vertices are pinned to) by controlling the keyframes - the trajectory points - and the F-curves - the interpolation method between keyframes.\n",
    "\n",
    "For Blender, the following is required for the definitions:\n",
    "- Each keypoint needs to be defined by:\n",
    "    - Object origin location\n",
    "    - Frame with which to insert the keyframe\n",
    "- F-curves - default is Bezier with pretty reasonable parametrs\n",
    "  - For linear control, no parameters are needed.\n",
    "  - For other interpolation methods I'm unsure.\n",
    "\n",
    "**TODO:** Decide on Fcurve interpolation scheme (linear or not?). Non-linear seems preferable?\n",
    "- Let's just use the default F-Curves and get as far as we can with this setting.\n",
    "**TODO:** Decide on programmatic representation. Velocity control with a unit direction vector seems reasonable.\n",
    "\n",
    "For keyframe insertion, can potentially follow this pattern:\n",
    "```python\n",
    "obj = bpy.context.active_object  # Or however else we get the object pointer\n",
    "for keyframe_frame, obj_location in (keyframes):\n",
    "    obj.location = obj_location  # I believe this can be a flat numpy array\n",
    "    obj.keyframe_insert(data_path=\"location\",\n",
    "                        index=-1,  # indicates to place the keyframe last\n",
    "                        group=group,  # group name F-curve added to if it doesn't exist\n",
    "                        frame=keyframe_frame)\n",
    "```"
   ]
  },
  {
   "cell_type": "code",
   "execution_count": 8,
   "metadata": {},
   "outputs": [],
   "source": [
    "cloth_obj = bpy.data.objects[\"cloth\"]\n",
    "gripper_obj = bpy.data.objects[\"Empty\"]"
   ]
  },
  {
   "cell_type": "code",
   "execution_count": 9,
   "metadata": {},
   "outputs": [
    {
     "name": "stdout",
     "output_type": "stream",
     "text": [
      "Starting gripper keyframe frame: 0\n"
     ]
    }
   ],
   "source": [
    "gripper_animation = GripperAnimation(gripper_obj, cloth_obj)"
   ]
  },
  {
   "cell_type": "code",
   "execution_count": 11,
   "metadata": {},
   "outputs": [
    {
     "name": "stdout",
     "output_type": "stream",
     "text": [
      "bake: frame 0 :: 200\n",
      "bake: frame 1 :: 200\n",
      "bake: frame 2 :: 200\n",
      "bake: frame 3 :: 200\n",
      "bake: frame 4 :: 200\n",
      "bake: frame 5 :: 200\n",
      "bake: frame 6 :: 200\n",
      "bake: frame 7 :: 200\n",
      "bake: frame 8 :: 200\n",
      "bake: frame 9 :: 200\n",
      "bake: frame 10 :: 200\n",
      "bake: frame 11 :: 200\n",
      "bake: frame 12 :: 200\n",
      "bake: frame 13 :: 200\n",
      "bake: frame 14 :: 200\n",
      "bake: frame 15 :: 200\n",
      "bake: frame 16 :: 200\n",
      "bake: frame 17 :: 200\n",
      "bake: frame 18 :: 200\n",
      "bake: frame 19 :: 200\n",
      "bake: frame 20 :: 200\n",
      "bake: frame 21 :: 200\n",
      "bake: frame 22 :: 200\n",
      "bake: frame 23 :: 200\n",
      "bake: frame 24 :: 200\n",
      "bake: frame 25 :: 200\n",
      "bake: frame 26 :: 200\n",
      "bake: frame 27 :: 200\n",
      "bake: frame 28 :: 200\n",
      "bake: frame 29 :: 200\n",
      "bake: frame 30 :: 200\n",
      "bake: frame 31 :: 200\n",
      "bake: frame 32 :: 200\n",
      "bake: frame 33 :: 200\n",
      "bake: frame 34 :: 200\n",
      "bake: frame 35 :: 200\n",
      "bake: frame 36 :: 200\n",
      "bake: frame 37 :: 200\n",
      "bake: frame 38 :: 200\n",
      "bake: frame 39 :: 200\n",
      "bake: frame 40 :: 200\n",
      "bake: frame 41 :: 200\n",
      "bake: frame 42 :: 200\n",
      "bake: frame 43 :: 200\n",
      "bake: frame 44 :: 200\n",
      "bake: frame 45 :: 200\n",
      "bake: frame 46 :: 200\n",
      "bake: frame 47 :: 200\n",
      "bake: frame 48 :: 200\n",
      "bake: frame 49 :: 200\n",
      "bake: frame 50 :: 200\n",
      "bake: frame 51 :: 200\n",
      "bake: frame 52 :: 200\n",
      "bake: frame 53 :: 200\n",
      "bake: frame 54 :: 200\n",
      "bake: frame 55 :: 200\n",
      "bake: frame 56 :: 200\n",
      "bake: frame 57 :: 200\n",
      "bake: frame 58 :: 200\n",
      "bake: frame 59 :: 200\n",
      "bake: frame 60 :: 200\n",
      "bake: frame 61 :: 200\n",
      "bake: frame 62 :: 200\n",
      "bake: frame 63 :: 200\n",
      "bake: frame 64 :: 200\n",
      "bake: frame 65 :: 200\n",
      "bake: frame 66 :: 200\n",
      "bake: frame 67 :: 200\n",
      "bake: frame 68 :: 200\n",
      "bake: frame 69 :: 200\n",
      "bake: frame 70 :: 200\n",
      "bake: frame 71 :: 200\n",
      "bake: frame 72 :: 200\n",
      "bake: frame 73 :: 200\n",
      "bake: frame 74 :: 200\n",
      "bake: frame 75 :: 200\n",
      "bake: frame 76 :: 200\n",
      "bake: frame 77 :: 200\n",
      "bake: frame 78 :: 200\n",
      "bake: frame 79 :: 200\n",
      "bake: frame 80 :: 200\n",
      "bake: frame 81 :: 200\n",
      "bake: frame 82 :: 200\n",
      "bake: frame 83 :: 200\n",
      "bake: frame 84 :: 200\n",
      "bake: frame 85 :: 200\n",
      "bake: frame 86 :: 200\n",
      "bake: frame 87 :: 200\n",
      "bake: frame 88 :: 200\n",
      "bake: frame 89 :: 200\n",
      "bake: frame 90 :: 200\n",
      "bake: frame 91 :: 200\n",
      "bake: frame 92 :: 200\n",
      "bake: frame 93 :: 200\n",
      "bake: frame 94 :: 200\n",
      "bake: frame 95 :: 200\n",
      "bake: frame 96 :: 200\n",
      "bake: frame 97 :: 200\n",
      "bake: frame 98 :: 200\n",
      "bake: frame 99 :: 200\n",
      "bake: frame 100 :: 200\n",
      "bake: frame 101 :: 200\n",
      "bake: frame 102 :: 200\n",
      "bake: frame 103 :: 200\n",
      "bake: frame 104 :: 200\n",
      "bake: frame 105 :: 200\n",
      "bake: frame 106 :: 200\n",
      "bake: frame 107 :: 200\n",
      "bake: frame 108 :: 200\n",
      "bake: frame 109 :: 200\n",
      "bake: frame 110 :: 200\n",
      "bake: frame 111 :: 200\n",
      "bake: frame 112 :: 200\n",
      "bake: frame 113 :: 200\n",
      "bake: frame 114 :: 200\n",
      "bake: frame 115 :: 200\n",
      "bake: frame 116 :: 200\n",
      "bake: frame 117 :: 200\n",
      "bake: frame 118 :: 200\n",
      "bake: frame 119 :: 200\n",
      "bake: frame 120 :: 200\n",
      "bake: frame 121 :: 200\n",
      "bake: frame 122 :: 200\n",
      "bake: frame 123 :: 200\n",
      "bake: frame 124 :: 200\n",
      "bake: frame 125 :: 200\n",
      "bake: frame 126 :: 200\n",
      "bake: frame 127 :: 200\n",
      "bake: frame 128 :: 200\n",
      "bake: frame 129 :: 200\n",
      "bake: frame 130 :: 200\n",
      "bake: frame 131 :: 200\n",
      "bake: frame 132 :: 200\n",
      "bake: frame 133 :: 200\n",
      "bake: frame 134 :: 200\n",
      "bake: frame 135 :: 200\n",
      "bake: frame 136 :: 200\n",
      "bake: frame 137 :: 200\n",
      "bake: frame 138 :: 200\n",
      "bake: frame 139 :: 200\n",
      "bake: frame 140 :: 200\n",
      "bake: frame 141 :: 200\n",
      "bake: frame 142 :: 200\n",
      "bake: frame 143 :: 200\n",
      "bake: frame 144 :: 200\n",
      "bake: frame 145 :: 200\n",
      "bake: frame 146 :: 200\n",
      "bake: frame 147 :: 200\n",
      "bake: frame 148 :: 200\n",
      "bake: frame 149 :: 200\n",
      "bake: frame 150 :: 200\n",
      "bake: frame 151 :: 200\n",
      "bake: frame 152 :: 200\n",
      "bake: frame 153 :: 200\n",
      "bake: frame 154 :: 200\n",
      "bake: frame 155 :: 200\n",
      "bake: frame 156 :: 200\n",
      "bake: frame 157 :: 200\n",
      "bake: frame 158 :: 200\n",
      "bake: frame 159 :: 200\n",
      "bake: frame 160 :: 200\n",
      "bake: frame 161 :: 200\n",
      "bake: frame 162 :: 200\n",
      "bake: frame 163 :: 200\n",
      "bake: frame 164 :: 200\n",
      "bake: frame 165 :: 200\n",
      "bake: frame 166 :: 200\n",
      "bake: frame 167 :: 200\n",
      "bake: frame 168 :: 200\n",
      "bake: frame 169 :: 200\n",
      "bake: frame 170 :: 200\n",
      "bake: frame 171 :: 200\n",
      "bake: frame 172 :: 200\n",
      "bake: frame 173 :: 200\n",
      "bake: frame 174 :: 200\n",
      "bake: frame 175 :: 200\n",
      "bake: frame 176 :: 200\n",
      "bake: frame 177 :: 200\n",
      "bake: frame 178 :: 200\n",
      "bake: frame 179 :: 200\n",
      "bake: frame 180 :: 200\n",
      "bake: frame 181 :: 200\n",
      "bake: frame 182 :: 200\n",
      "bake: frame 183 :: 200\n",
      "bake: frame 184 :: 200\n",
      "bake: frame 185 :: 200\n",
      "bake: frame 186 :: 200\n",
      "bake: frame 187 :: 200\n",
      "bake: frame 188 :: 200\n",
      "bake: frame 189 :: 200\n",
      "bake: frame 190 :: 200\n",
      "bake: frame 191 :: 200\n",
      "bake: frame 192 :: 200\n",
      "bake: frame 193 :: 200\n",
      "bake: frame 194 :: 200\n",
      "bake: frame 195 :: 200\n",
      "bake: frame 196 :: 200\n",
      "bake: frame 197 :: 200\n",
      "bake: frame 198 :: 200\n",
      "bake: frame 199 :: 200\n",
      "bake: frame 200 :: 200\n"
     ]
    },
    {
     "data": {
      "text/plain": [
       "{'FINISHED'}"
      ]
     },
     "execution_count": 11,
     "metadata": {},
     "output_type": "execute_result"
    }
   ],
   "source": [
    "using_simple_dynamics = False\n",
    "\n",
    "velocity_mps = 0.15 if using_simple_dynamics else 0.75\n",
    "\n",
    "direction_vecs = [\n",
    "    np.array((1.0, 0.0, 0.0)),\n",
    "    np.array((0.0, -1.0, 0.0)),\n",
    "    np.array((0.0, 0.0, -1.0)),\n",
    "    np.array((-1.0, -1.0, 1.0))\n",
    "]\n",
    "\n",
    "frame_duration = 50\n",
    "\n",
    "for vec in direction_vecs:\n",
    "    gripper_animation.add_movement(vec, velocity_mps, frame_duration)\n",
    "\n",
    "# Now bake the sim.\n",
    "bpy.ops.ptcache.bake_all()"
   ]
  },
  {
   "cell_type": "code",
   "execution_count": 15,
   "metadata": {},
   "outputs": [
    {
     "name": "stdout",
     "output_type": "stream",
     "text": [
      "Axis: x\n",
      "\tFrames: [  0.  50. 100. 150. 200.]\n",
      "\tCoordinates: [3.725290298461914e-09, 1.5625, 1.5625, 1.5625, 0.0]\n",
      "Axis: y\n",
      "\tFrames: [  0.  50. 100. 150. 200.]\n",
      "\tCoordinates: [0.0, 0.0, -1.5625, -1.5625, -3.125]\n",
      "Axis: z\n",
      "\tFrames: [  0.  50. 100. 150. 200.]\n",
      "\tCoordinates: [-1.4901161193847656e-08, -1.4901161193847656e-08, -1.4901161193847656e-08, -1.5625, 0.0]\n"
     ]
    }
   ],
   "source": [
    "print_obj_keyframe_coordinates(gripper_obj)"
   ]
  },
  {
   "cell_type": "code",
   "execution_count": null,
   "metadata": {},
   "outputs": [
    {
     "name": "stdout",
     "output_type": "stream",
     "text": [
      "Info: Saved \"gripper_animation_check.blend\"\n"
     ]
    },
    {
     "data": {
      "text/plain": [
       "{'FINISHED'}"
      ]
     },
     "execution_count": 60,
     "metadata": {},
     "output_type": "execute_result"
    }
   ],
   "source": [
    "bpy.ops.wm.save_as_mainfile(filepath=(sample_dir / \"gripper_animation_check.blend\").as_posix())"
   ]
  },
  {
   "cell_type": "markdown",
   "metadata": {},
   "source": [
    "## Complicated Dynamics\n",
    "\n",
    "I initially thought doing the complicated dynamics would be tougher. Instead, I think I can animate curves by just keyframing select axes instead of all x, y, z at every keyframe.\n",
    "\n",
    "**TODO:** If deemed necessary, add functionality in the `GripperAnimation` class to accept which axes to keyframe. I should be able to do this by just accepting the axes index or the axis key (e.g. 'x') and using a map from key -> index. Seems like the mapping is straightforward (i.e. {'x': 0, 'y': 1, 'z': 2}).\n",
    "\n",
    "I can also induce deformation by moving the gripper in a way that changes direction quickly.\n",
    "**Note:** I imagine the *impulse* is what's important here. Quickly changing the velocity of the gripper.\n",
    "- Due to this, I might have to change the Fcurve for the \"gripper\" motion to linear so that it quickly jerks the cloth instead of the typical smooth interpolation scheme."
   ]
  },
  {
   "cell_type": "code",
   "execution_count": null,
   "metadata": {},
   "outputs": [],
   "source": []
  }
 ],
 "metadata": {
  "kernelspec": {
   "display_name": "Python 3.10.11 ('simulation-7NaVsHdv')",
   "language": "python",
   "name": "python3"
  },
  "language_info": {
   "codemirror_mode": {
    "name": "ipython",
    "version": 3
   },
   "file_extension": ".py",
   "mimetype": "text/x-python",
   "name": "python",
   "nbconvert_exporter": "python",
   "pygments_lexer": "ipython3",
   "version": "3.10.11"
  },
  "orig_nbformat": 4,
  "vscode": {
   "interpreter": {
    "hash": "ed7f320b0bb21722de29e1b61058df1eb6cc93ec2c9b7f0e9041cd394f87c774"
   }
  }
 },
 "nbformat": 4,
 "nbformat_minor": 2
}
