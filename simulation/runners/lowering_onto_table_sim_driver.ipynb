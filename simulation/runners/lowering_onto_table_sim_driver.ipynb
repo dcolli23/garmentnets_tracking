{
 "cells": [
  {
   "cell_type": "code",
   "execution_count": 1,
   "metadata": {},
   "outputs": [
    {
     "name": "stdout",
     "output_type": "stream",
     "text": [
      "Jupyter environment detected. Enabling Open3D WebVisualizer.\n",
      "[Open3D INFO] WebRTC GUI backend enabled.\n",
      "[Open3D INFO] WebRTCWindowSystem: HTTP handshake server disabled.\n",
      "WARN (bgl): source/blender/python/generic/bgl.c:2654 BPyInit_bgl: 'bgl' imported without an OpenGL backend. Please update your add-ons to use the 'gpu' module. In Blender 4.0 'bgl' will be removed.\n"
     ]
    }
   ],
   "source": [
    "import os\n",
    "import sys\n",
    "from pathlib import Path\n",
    "import pickle\n",
    "\n",
    "import open3d as o3d\n",
    "import numpy as np\n",
    "\n",
    "# Blender-specific imports\n",
    "import bpy\n",
    "# *should* be able to import gpu for using GPUs to at least render, maybe bake physics?\n",
    "# but I'm getting a warning that says:\n",
    "#   WARN (bgl): source/blender/python/generic/bgl.c:2654 BPyInit_bgl: 'bgl' imported without an \n",
    "#   OpenGL backend. Please update your add-ons to use the 'gpu' module. In Blender 4.0 'bgl' will be\n",
    "#   removed.\n",
    "# This page documents usage of the Blender GPU module: https://docs.blender.org/api/current/gpu.html#module-gpu\n",
    "# import gpu\n",
    "\n",
    "# Imports from this repository\n",
    "sys.path.append(\"../../\")\n",
    "sys.path.append(\"../\")\n",
    "from simulation.cloth_3d_util.accessor import Cloth3DCanonicalAccessor\n",
    "from simulation.pipeline.smpl_simulation_pipeline import smpl_simulation_pipeline\n",
    "from simulation.cloth_3d_util.util import loadInfo, quads2tris\n",
    "from simulation.blender_util.physics import run_simulation\n",
    "from simulation.blender_util_dylan.shape_keys import set_obj_default_shape_from_shape_key\n",
    "from simulation.blender_util_dylan.modifiers import make_modifier_highest_priority\n",
    "from simulation.blender_util_dylan.mesh import add_collision_plane\n",
    "from simulation.pipeline.simulation_gripper_lower_onto_plane_pipeline import simulate_lowering_cloth_onto_table_full\n",
    "\n",
    "%load_ext autoreload\n",
    "%autoreload 2"
   ]
  },
  {
   "cell_type": "code",
   "execution_count": 2,
   "metadata": {},
   "outputs": [],
   "source": [
    "FILE_ROOT = Path(os.getcwd())\n",
    "CLOTH3D_PATH = Path(os.path.expanduser(\"~/DataLocker/datasets/CLOTH3D/training/\"))\n",
    "OUTPUT_ROOT = FILE_ROOT / \"..\" / \"script_output\" / \"sim_pipeline_driver_test\"\n",
    "\n",
    "# Make the output directory if it doesn't exist.\n",
    "OUTPUT_ROOT.mkdir(exist_ok=True)\n",
    "\n",
    "\n",
    "PLANE_OFFSET = 0.025  # [m]"
   ]
  },
  {
   "cell_type": "code",
   "execution_count": 3,
   "metadata": {},
   "outputs": [],
   "source": [
    "sample_configuration = {\n",
    "    \"sample_id\": \"00380\",\n",
    "    \"garment_name\": \"Tshirt\",\n",
    "    \"grip_vertex_idx\": 0\n",
    "}\n",
    "\n",
    "smpl_simulation_duration_pair = (0, 120)\n",
    "\n",
    "grip_lowering_args = {\n",
    "    \"initial_sim_end_frame\": smpl_simulation_duration_pair[1],\n",
    "    \"start_frame\": 1,\n",
    "    \"end_frame\": 100,\n",
    "    \"fraction_lowered\": 0.25, # Fraction of the cloth that will be lowered onto the table.\n",
    "}\n",
    "\n",
    "sample_configs = [sample_configuration]"
   ]
  },
  {
   "cell_type": "code",
   "execution_count": 4,
   "metadata": {},
   "outputs": [],
   "source": [
    "accessor = Cloth3DCanonicalAccessor(CLOTH3D_PATH)"
   ]
  },
  {
   "cell_type": "code",
   "execution_count": 5,
   "metadata": {},
   "outputs": [
    {
     "name": "stdout",
     "output_type": "stream",
     "text": [
      "Running SMPL Simulation Pipeline\n",
      "--------------------------------------------------------------------------------\n",
      "bake: frame 0 :: 120\n",
      "bake: frame 1 :: 120\n",
      "bake: frame 2 :: 120\n",
      "bake: frame 3 :: 120\n",
      "bake: frame 4 :: 120\n",
      "bake: frame 5 :: 120\n",
      "bake: frame 6 :: 120\n",
      "bake: frame 7 :: 120\n",
      "bake: frame 8 :: 120\n",
      "bake: frame 9 :: 120\n",
      "bake: frame 10 :: 120\n",
      "bake: frame 11 :: 120\n",
      "bake: frame 12 :: 120\n",
      "bake: frame 13 :: 120\n",
      "bake: frame 14 :: 120\n",
      "bake: frame 15 :: 120\n",
      "bake: frame 16 :: 120\n",
      "bake: frame 17 :: 120\n",
      "bake: frame 18 :: 120\n",
      "bake: frame 19 :: 120\n",
      "bake: frame 20 :: 120\n",
      "bake: frame 21 :: 120\n",
      "bake: frame 22 :: 120\n",
      "bake: frame 23 :: 120\n",
      "bake: frame 24 :: 120\n",
      "bake: frame 25 :: 120\n",
      "bake: frame 26 :: 120\n",
      "bake: frame 27 :: 120\n",
      "bake: frame 28 :: 120\n",
      "bake: frame 29 :: 120\n",
      "bake: frame 30 :: 120\n",
      "bake: frame 31 :: 120\n",
      "bake: frame 32 :: 120\n",
      "bake: frame 33 :: 120\n",
      "bake: frame 34 :: 120\n",
      "bake: frame 35 :: 120\n",
      "bake: frame 36 :: 120\n",
      "bake: frame 37 :: 120\n",
      "bake: frame 38 :: 120\n",
      "bake: frame 39 :: 120\n",
      "bake: frame 40 :: 120\n",
      "bake: frame 41 :: 120\n",
      "bake: frame 42 :: 120\n",
      "bake: frame 43 :: 120\n",
      "bake: frame 44 :: 120\n",
      "bake: frame 45 :: 120\n",
      "bake: frame 46 :: 120\n",
      "bake: frame 47 :: 120\n",
      "bake: frame 48 :: 120\n",
      "bake: frame 49 :: 120\n",
      "bake: frame 50 :: 120\n",
      "bake: frame 51 :: 120\n",
      "bake: frame 52 :: 120\n",
      "bake: frame 53 :: 120\n",
      "bake: frame 54 :: 120\n",
      "bake: frame 55 :: 120\n",
      "bake: frame 56 :: 120\n",
      "bake: frame 57 :: 120\n",
      "bake: frame 58 :: 120\n",
      "bake: frame 59 :: 120\n",
      "bake: frame 60 :: 120\n",
      "bake: frame 61 :: 120\n",
      "bake: frame 62 :: 120\n",
      "bake: frame 63 :: 120\n",
      "bake: frame 64 :: 120\n",
      "bake: frame 65 :: 120\n",
      "bake: frame 66 :: 120\n",
      "bake: frame 67 :: 120\n",
      "bake: frame 68 :: 120\n",
      "bake: frame 69 :: 120\n",
      "bake: frame 70 :: 120\n",
      "bake: frame 71 :: 120\n",
      "bake: frame 72 :: 120\n",
      "bake: frame 73 :: 120\n",
      "bake: frame 74 :: 120\n",
      "bake: frame 75 :: 120\n",
      "bake: frame 76 :: 120\n",
      "bake: frame 77 :: 120\n",
      "bake: frame 78 :: 120\n",
      "bake: frame 79 :: 120\n",
      "bake: frame 80 :: 120\n",
      "bake: frame 81 :: 120\n",
      "bake: frame 82 :: 120\n",
      "bake: frame 83 :: 120\n",
      "bake: frame 84 :: 120\n",
      "bake: frame 85 :: 120\n",
      "bake: frame 86 :: 120\n",
      "bake: frame 87 :: 120\n",
      "bake: frame 88 :: 120\n",
      "bake: frame 89 :: 120\n",
      "bake: frame 90 :: 120\n",
      "bake: frame 91 :: 120\n",
      "bake: frame 92 :: 120\n",
      "bake: frame 93 :: 120\n",
      "bake: frame 94 :: 120\n",
      "bake: frame 95 :: 120\n",
      "bake: frame 96 :: 120\n",
      "bake: frame 97 :: 120\n",
      "bake: frame 98 :: 120\n",
      "bake: frame 99 :: 120\n",
      "bake: frame 100 :: 120\n",
      "bake: frame 101 :: 120\n",
      "bake: frame 102 :: 120\n",
      "bake: frame 103 :: 120\n",
      "bake: frame 104 :: 120\n",
      "bake: frame 105 :: 120\n",
      "bake: frame 106 :: 120\n",
      "bake: frame 107 :: 120\n",
      "bake: frame 108 :: 120\n",
      "bake: frame 109 :: 120\n",
      "bake: frame 110 :: 120\n",
      "bake: frame 111 :: 120\n",
      "bake: frame 112 :: 120\n",
      "bake: frame 113 :: 120\n",
      "bake: frame 114 :: 120\n",
      "bake: frame 115 :: 120\n",
      "bake: frame 116 :: 120\n",
      "bake: frame 117 :: 120\n",
      "bake: frame 118 :: 120\n",
      "bake: frame 119 :: 120\n",
      "bake: frame 120 :: 120\n",
      "Running Simulation Of Lowering Cloth Onto Table\n",
      "--------------------------------------------------------------------------------\n",
      "RNA_boolean_get: OBJECT_OT_modifier_apply_as_shapekey.single_user not found.\n",
      "RNA_boolean_get: OBJECT_OT_modifier_apply_as_shapekey.merge_customdata not found.\n",
      "Removing 'Basis' shape key\n",
      "Info: Total files 0 | Changed 0 | Failed 0\n",
      "Info: Saved \"hanging_rest_state.blend\"\n",
      "Info: Saved \"_checkpoint_1.blend\"\n",
      "Saved blend file checkpoint to '/home/dcolli23/code/school/rob599_deeprob/projects/final/garmentnets_tracking/simulation/runners/../script_output/sim_pipeline_driver_test/00380_Tshirt_0/_checkpoint_1.blend'\n",
      "bake: frame 0 :: 100\n",
      "bake: frame 1 :: 100\n",
      "bake: frame 2 :: 100\n",
      "bake: frame 3 :: 100\n",
      "bake: frame 4 :: 100\n",
      "bake: frame 5 :: 100\n",
      "bake: frame 6 :: 100\n",
      "bake: frame 7 :: 100\n",
      "bake: frame 8 :: 100\n",
      "bake: frame 9 :: 100\n",
      "bake: frame 10 :: 100\n",
      "bake: frame 11 :: 100\n",
      "bake: frame 12 :: 100\n",
      "bake: frame 13 :: 100\n",
      "bake: frame 14 :: 100\n",
      "bake: frame 15 :: 100\n",
      "bake: frame 16 :: 100\n",
      "bake: frame 17 :: 100\n",
      "bake: frame 18 :: 100\n",
      "bake: frame 19 :: 100\n",
      "bake: frame 20 :: 100\n",
      "bake: frame 21 :: 100\n",
      "bake: frame 22 :: 100\n",
      "bake: frame 23 :: 100\n",
      "bake: frame 24 :: 100\n",
      "bake: frame 25 :: 100\n",
      "bake: frame 26 :: 100\n",
      "bake: frame 27 :: 100\n",
      "bake: frame 28 :: 100\n",
      "bake: frame 29 :: 100\n",
      "bake: frame 30 :: 100\n",
      "bake: frame 31 :: 100\n",
      "bake: frame 32 :: 100\n",
      "bake: frame 33 :: 100\n",
      "bake: frame 34 :: 100\n",
      "bake: frame 35 :: 100\n",
      "bake: frame 36 :: 100\n",
      "bake: frame 37 :: 100\n",
      "bake: frame 38 :: 100\n",
      "bake: frame 39 :: 100\n",
      "bake: frame 40 :: 100\n",
      "bake: frame 41 :: 100\n",
      "bake: frame 42 :: 100\n",
      "bake: frame 43 :: 100\n",
      "bake: frame 44 :: 100\n",
      "bake: frame 45 :: 100\n",
      "bake: frame 46 :: 100\n",
      "bake: frame 47 :: 100\n",
      "bake: frame 48 :: 100\n",
      "bake: frame 49 :: 100\n",
      "bake: frame 50 :: 100\n",
      "bake: frame 51 :: 100\n",
      "bake: frame 52 :: 100\n",
      "bake: frame 53 :: 100\n",
      "bake: frame 54 :: 100\n",
      "bake: frame 55 :: 100\n",
      "bake: frame 56 :: 100\n",
      "bake: frame 57 :: 100\n",
      "bake: frame 58 :: 100\n",
      "bake: frame 59 :: 100\n",
      "bake: frame 60 :: 100\n",
      "bake: frame 61 :: 100\n",
      "bake: frame 62 :: 100\n",
      "bake: frame 63 :: 100\n",
      "bake: frame 64 :: 100\n",
      "bake: frame 65 :: 100\n",
      "bake: frame 66 :: 100\n",
      "bake: frame 67 :: 100\n",
      "bake: frame 68 :: 100\n",
      "bake: frame 69 :: 100\n",
      "bake: frame 70 :: 100\n",
      "bake: frame 71 :: 100\n",
      "bake: frame 72 :: 100\n",
      "bake: frame 73 :: 100\n",
      "bake: frame 74 :: 100\n",
      "bake: frame 75 :: 100\n",
      "bake: frame 76 :: 100\n",
      "bake: frame 77 :: 100\n",
      "bake: frame 78 :: 100\n",
      "bake: frame 79 :: 100\n",
      "bake: frame 80 :: 100\n",
      "bake: frame 81 :: 100\n",
      "bake: frame 82 :: 100\n",
      "bake: frame 83 :: 100\n",
      "bake: frame 84 :: 100\n",
      "bake: frame 85 :: 100\n",
      "bake: frame 86 :: 100\n",
      "bake: frame 87 :: 100\n",
      "bake: frame 88 :: 100\n",
      "bake: frame 89 :: 100\n",
      "bake: frame 90 :: 100\n",
      "bake: frame 91 :: 100\n",
      "bake: frame 92 :: 100\n",
      "bake: frame 93 :: 100\n",
      "bake: frame 94 :: 100\n",
      "bake: frame 95 :: 100\n",
      "bake: frame 96 :: 100\n",
      "bake: frame 97 :: 100\n",
      "bake: frame 98 :: 100\n",
      "bake: frame 99 :: 100\n",
      "bake: frame 100 :: 100\n",
      "Info: Saved \"_checkpoint_2.blend\"\n",
      "Saved blend file checkpoint to '/home/dcolli23/code/school/rob599_deeprob/projects/final/garmentnets_tracking/simulation/runners/../script_output/sim_pipeline_driver_test/00380_Tshirt_0/_checkpoint_2.blend'\n"
     ]
    }
   ],
   "source": [
    "config = sample_configs[0]\n",
    "sample_key = f\"{config['sample_id']}_{config['garment_name']}_{config['grip_vertex_idx']}\"\n",
    "sample_dir = OUTPUT_ROOT / sample_key\n",
    "# Make the output sample directory if it doesn't exist.\n",
    "sample_dir.mkdir(exist_ok=True)\n",
    "\n",
    "result_file = \"simulation_result.pk\"\n",
    "result_path = sample_dir / result_file\n",
    "\n",
    "# Get a dictionary containing the data for this sample garment.\n",
    "sample_data = accessor.get_sample_data(**config)\n",
    "\n",
    "# garment_info = accessor.reader.read_info(config[\"sample_id\"])\n",
    "garment_info_mat_filename = CLOTH3D_PATH / config[\"sample_id\"] / \"info.mat\"\n",
    "# print(garment_info_mat_filename)\n",
    "garment_info = loadInfo(garment_info_mat_filename)\n",
    "\n",
    "# if result_path.exists():\n",
    "#     print(f\"WARNING! Result file, '{result_path}', already exists! Skipping this run. Reading result instead\")\n",
    "#     result_data = pickle.load(result_path.open('rb'))\n",
    "simulate_lowering_cloth_onto_table_full(config, sample_data, smpl_simulation_duration_pair, grip_lowering_args, sample_dir)"
   ]
  },
  {
   "cell_type": "code",
   "execution_count": 5,
   "metadata": {},
   "outputs": [
    {
     "name": "stdout",
     "output_type": "stream",
     "text": [
      "bake: frame 0 :: 120\n",
      "bake: frame 1 :: 120\n",
      "bake: frame 2 :: 120\n",
      "bake: frame 3 :: 120\n",
      "bake: frame 4 :: 120\n",
      "bake: frame 5 :: 120\n",
      "bake: frame 6 :: 120\n",
      "bake: frame 7 :: 120\n",
      "bake: frame 8 :: 120\n",
      "bake: frame 9 :: 120\n",
      "bake: frame 10 :: 120\n",
      "bake: frame 11 :: 120\n",
      "bake: frame 12 :: 120\n",
      "bake: frame 13 :: 120\n",
      "bake: frame 14 :: 120\n",
      "bake: frame 15 :: 120\n",
      "bake: frame 16 :: 120\n",
      "bake: frame 17 :: 120\n",
      "bake: frame 18 :: 120\n",
      "bake: frame 19 :: 120\n",
      "bake: frame 20 :: 120\n",
      "bake: frame 21 :: 120\n",
      "bake: frame 22 :: 120\n",
      "bake: frame 23 :: 120\n",
      "bake: frame 24 :: 120\n",
      "bake: frame 25 :: 120\n",
      "bake: frame 26 :: 120\n",
      "bake: frame 27 :: 120\n",
      "bake: frame 28 :: 120\n",
      "bake: frame 29 :: 120\n",
      "bake: frame 30 :: 120\n",
      "bake: frame 31 :: 120\n",
      "bake: frame 32 :: 120\n",
      "bake: frame 33 :: 120\n",
      "bake: frame 34 :: 120\n",
      "bake: frame 35 :: 120\n",
      "bake: frame 36 :: 120\n",
      "bake: frame 37 :: 120\n",
      "bake: frame 38 :: 120\n",
      "bake: frame 39 :: 120\n",
      "bake: frame 40 :: 120\n",
      "bake: frame 41 :: 120\n",
      "bake: frame 42 :: 120\n",
      "bake: frame 43 :: 120\n",
      "bake: frame 44 :: 120\n",
      "bake: frame 45 :: 120\n",
      "bake: frame 46 :: 120\n",
      "bake: frame 47 :: 120\n",
      "bake: frame 48 :: 120\n",
      "bake: frame 49 :: 120\n",
      "bake: frame 50 :: 120\n",
      "bake: frame 51 :: 120\n",
      "bake: frame 52 :: 120\n",
      "bake: frame 53 :: 120\n",
      "bake: frame 54 :: 120\n",
      "bake: frame 55 :: 120\n",
      "bake: frame 56 :: 120\n",
      "bake: frame 57 :: 120\n",
      "bake: frame 58 :: 120\n",
      "bake: frame 59 :: 120\n",
      "bake: frame 60 :: 120\n",
      "bake: frame 61 :: 120\n",
      "bake: frame 62 :: 120\n",
      "bake: frame 63 :: 120\n",
      "bake: frame 64 :: 120\n",
      "bake: frame 65 :: 120\n",
      "bake: frame 66 :: 120\n",
      "bake: frame 67 :: 120\n",
      "bake: frame 68 :: 120\n",
      "bake: frame 69 :: 120\n",
      "bake: frame 70 :: 120\n",
      "bake: frame 71 :: 120\n",
      "bake: frame 72 :: 120\n",
      "bake: frame 73 :: 120\n",
      "bake: frame 74 :: 120\n",
      "bake: frame 75 :: 120\n",
      "bake: frame 76 :: 120\n",
      "bake: frame 77 :: 120\n",
      "bake: frame 78 :: 120\n",
      "bake: frame 79 :: 120\n"
     ]
    }
   ],
   "source": [
    "SAVE_BLEND_FILES = False\n",
    "\n",
    "# Turning this off for debugging below.\n",
    "for config in sample_configs:\n",
    "    sample_key = f\"{config['sample_id']}_{config['garment_name']}_{config['grip_vertex_idx']}\"\n",
    "    sample_dir = OUTPUT_ROOT / sample_key\n",
    "    # Make the output sample directory if it doesn't exist.\n",
    "    sample_dir.mkdir(exist_ok=True)\n",
    "\n",
    "    result_file = \"simulation_result.pk\"\n",
    "    result_path = sample_dir / result_file\n",
    "\n",
    "    # Get a dictionary containing the data for this sample garment.\n",
    "    sample_data = accessor.get_sample_data(**config)\n",
    "\n",
    "    # garment_info = accessor.reader.read_info(config[\"sample_id\"])\n",
    "    garment_info_mat_filename = CLOTH3D_PATH / config[\"sample_id\"] / \"info.mat\"\n",
    "    # print(garment_info_mat_filename)\n",
    "    garment_info = loadInfo(garment_info_mat_filename)\n",
    "\n",
    "    if result_path.exists():\n",
    "        print(f\"WARNING! Result file, '{result_path}', already exists! Skipping this run. Reading result instead\")\n",
    "        result_data = pickle.load(result_path.open('rb'))\n",
    "        continue\n",
    "\n",
    "    # TODO: Call the routines I just wrote. \n",
    "    # args_dict = dict()\n",
    "    # args_dict.update(config)\n",
    "    # args_dict.update(sample_data)\n",
    "    # args_dict[\"simulation_duration_pair\"] = (0, 120)\n",
    "\n",
    "    # result_data = smpl_simulation_pipeline(**args_dict)\n",
    "\n",
    "    ## Dylan added for controlling cloth via fake gripper so that we can lower it onto a plane.\n",
    "    # NOTE: Can use blender_util.mesh.mesh_to_numpy(cloth_obj, global_coordinate=True?) to get \n",
    "    # cloth's mesh as np array.\n",
    "    # TODO: Figure out how to change the coordinate frame. OR I could do this after the fact.\n",
    "\n",
    "    # Get meshes from all frames of the physics as numpy arrays.\n",
    "    # TODO: Figure out if I should start at frame 0 or 1.\n",
    "    cloth_obj = bpy.data.objects[\"cloth\"]\n",
    "    animated_meshes = []\n",
    "    for i in range(1, grip_lowering_args[\"end_frame\"] + 1):\n",
    "        bpy.context.scene.frame_set(i)\n",
    "        mesh_data_i = mesh_to_numpy(cloth_obj, global_coordinate=True)\n",
    "        animated_meshes.append(mesh_data_i)\n",
    "    animated_meshes_np = np.stack(animated_meshes, axis=0)\n",
    "\n",
    "    # Add the meshes from the lowering simulation to the result dictionary and save it.\n",
    "\n",
    "    \n",
    "\n",
    "    \n",
    "\n",
    "    if SAVE_BLEND_FILES:\n",
    "        blend_filepath = sample_dir / \"full_simulation.blend\"\n",
    "        bpy.ops.wm.save_as_mainfile(filepath=blend_filepath.as_posix())\n",
    "\n",
    "    print(f\"Writing simulation results to '{result_path}'\")\n",
    "    pickle.dump(result_data, result_path.open('wb'))\n",
    "    print(\"Done!\")"
   ]
  },
  {
   "cell_type": "code",
   "execution_count": 6,
   "metadata": {},
   "outputs": [],
   "source": [
    "\n",
    "\n",
    "# # I think this is just a numpy.arange for the vertices.\n",
    "# # pc_keypoint_idx = point_cloud_group[\"human_nn_idx\"][:].squeeze()\n",
    "# pc_keypoint_idx = np.arange(num_verts)\n",
    "# # keypoint_colors = np.random.random((pc_keypoint_idx.max() + 1, 3))\n",
    "# keypoint_colors = np.random.random((num_verts, 3))\n",
    "\n",
    "# # cloth_vert_human_nn_idx = misc_group['cloth_vert_human_nn_idx'][:]\n",
    "\n",
    "\n",
    "# pc_rgb_color = pc_rgb.astype(np.float32)# / 255\n",
    "# pc_keypoint_color = keypoint_colors[pc_keypoint_idx]\n",
    "\n",
    "# pcd = o3d.geometry.PointCloud()\n",
    "# pcd.points = o3d.utility.Vector3dVector(pc_point)\n",
    "# # pcd.colors = o3d.utility.Vector3dVector(pc_rgb_color)\n",
    "# # pcd.colors = o3d.utility.Vector3dVector(pc_keypoint_color)\n",
    "\n",
    "# # mesh_verts_shifted = np.array(mesh_verts)\n",
    "# # mesh_verts_shifted[:,0] += 0.5\n",
    "\n",
    "# # mesh = o3d.geometry.TriangleMesh()\n",
    "# # mesh.vertices = o3d.utility.Vector3dVector(mesh_verts_shifted)\n",
    "# # mesh.triangles = o3d.utility.Vector3iVector(mesh_triangles)\n",
    "# # mesh.vertex_colors = o3d.utility.Vector3dVector(keypoint_colors[cloth_vert_human_nn_idx])\n",
    "\n",
    "# # o3d.visualization.draw_geometries([pcd, mesh], mesh_show_wireframe=True, mesh_show_back_face=True)\n",
    "\n",
    "# # o3d.visualization.draw_geometries([pcd])"
   ]
  },
  {
   "cell_type": "code",
   "execution_count": 7,
   "metadata": {},
   "outputs": [],
   "source": [
    "# ply_output_path = sample_dir / \"grasped_shirt.ply\"\n",
    "# o3d.io.write_point_cloud(ply_output_path.as_posix(), pcd)"
   ]
  },
  {
   "attachments": {},
   "cell_type": "markdown",
   "metadata": {},
   "source": [
    "# Resources for Blender Simulation For Dynamcis\n",
    "\n",
    "- https://blender.stackexchange.com/questions/146744/physics-control\n",
    "  - Good explanation for control of an object in a physics simulation\n",
    "- Use static dynamics type for objects that don't move but still need collision (like the plane potentially)\n",
    "- Baking refers to the act of storing or caching the results of a calculation (like physics sim).\n",
    "  - Generally recommended to bake before rendering."
   ]
  },
  {
   "cell_type": "code",
   "execution_count": null,
   "metadata": {},
   "outputs": [],
   "source": []
  },
  {
   "attachments": {},
   "cell_type": "markdown",
   "metadata": {},
   "source": [
    "## Temporary Prototyping\n",
    "\n",
    "This will eventually go in the big loop we have above but I need to break this down so that I can test cell-by-cell first"
   ]
  },
  {
   "cell_type": "code",
   "execution_count": 5,
   "metadata": {},
   "outputs": [
    {
     "name": "stdout",
     "output_type": "stream",
     "text": [
      "Clearing all objects!\n",
      "bake: frame 0 :: 120\n",
      "bake: frame 1 :: 120\n",
      "bake: frame 2 :: 120\n",
      "bake: frame 3 :: 120\n",
      "bake: frame 4 :: 120\n",
      "bake: frame 5 :: 120\n",
      "bake: frame 6 :: 120\n",
      "bake: frame 7 :: 120\n",
      "bake: frame 8 :: 120\n",
      "bake: frame 9 :: 120\n",
      "bake: frame 10 :: 120\n",
      "bake: frame 11 :: 120\n",
      "bake: frame 12 :: 120\n",
      "bake: frame 13 :: 120\n",
      "bake: frame 14 :: 120\n",
      "bake: frame 15 :: 120\n",
      "bake: frame 16 :: 120\n",
      "bake: frame 17 :: 120\n",
      "bake: frame 18 :: 120\n",
      "bake: frame 19 :: 120\n",
      "bake: frame 20 :: 120\n",
      "bake: frame 21 :: 120\n",
      "bake: frame 22 :: 120\n",
      "bake: frame 23 :: 120\n",
      "bake: frame 24 :: 120\n",
      "bake: frame 25 :: 120\n",
      "bake: frame 26 :: 120\n",
      "bake: frame 27 :: 120\n",
      "bake: frame 28 :: 120\n",
      "bake: frame 29 :: 120\n",
      "bake: frame 30 :: 120\n",
      "bake: frame 31 :: 120\n",
      "bake: frame 32 :: 120\n",
      "bake: frame 33 :: 120\n",
      "bake: frame 34 :: 120\n",
      "bake: frame 35 :: 120\n",
      "bake: frame 36 :: 120\n",
      "bake: frame 37 :: 120\n",
      "bake: frame 38 :: 120\n",
      "bake: frame 39 :: 120\n",
      "bake: frame 40 :: 120\n",
      "bake: frame 41 :: 120\n",
      "bake: frame 42 :: 120\n",
      "bake: frame 43 :: 120\n",
      "bake: frame 44 :: 120\n",
      "bake: frame 45 :: 120\n",
      "bake: frame 46 :: 120\n",
      "bake: frame 47 :: 120\n",
      "bake: frame 48 :: 120\n",
      "bake: frame 49 :: 120\n",
      "bake: frame 50 :: 120\n",
      "bake: frame 51 :: 120\n",
      "bake: frame 52 :: 120\n",
      "bake: frame 53 :: 120\n",
      "bake: frame 54 :: 120\n",
      "bake: frame 55 :: 120\n",
      "bake: frame 56 :: 120\n",
      "bake: frame 57 :: 120\n",
      "bake: frame 58 :: 120\n",
      "bake: frame 59 :: 120\n",
      "bake: frame 60 :: 120\n",
      "bake: frame 61 :: 120\n",
      "bake: frame 62 :: 120\n",
      "bake: frame 63 :: 120\n",
      "bake: frame 64 :: 120\n",
      "bake: frame 65 :: 120\n",
      "bake: frame 66 :: 120\n",
      "bake: frame 67 :: 120\n",
      "bake: frame 68 :: 120\n",
      "bake: frame 69 :: 120\n",
      "bake: frame 70 :: 120\n",
      "bake: frame 71 :: 120\n",
      "bake: frame 72 :: 120\n",
      "bake: frame 73 :: 120\n",
      "bake: frame 74 :: 120\n",
      "bake: frame 75 :: 120\n",
      "bake: frame 76 :: 120\n",
      "bake: frame 77 :: 120\n",
      "bake: frame 78 :: 120\n",
      "bake: frame 79 :: 120\n",
      "bake: frame 80 :: 120\n",
      "bake: frame 81 :: 120\n",
      "bake: frame 82 :: 120\n",
      "bake: frame 83 :: 120\n",
      "bake: frame 84 :: 120\n",
      "bake: frame 85 :: 120\n",
      "bake: frame 86 :: 120\n",
      "bake: frame 87 :: 120\n",
      "bake: frame 88 :: 120\n",
      "bake: frame 89 :: 120\n",
      "bake: frame 90 :: 120\n",
      "bake: frame 91 :: 120\n",
      "bake: frame 92 :: 120\n",
      "bake: frame 93 :: 120\n",
      "bake: frame 94 :: 120\n",
      "bake: frame 95 :: 120\n",
      "bake: frame 96 :: 120\n",
      "bake: frame 97 :: 120\n",
      "bake: frame 98 :: 120\n",
      "bake: frame 99 :: 120\n",
      "bake: frame 100 :: 120\n",
      "bake: frame 101 :: 120\n",
      "bake: frame 102 :: 120\n",
      "bake: frame 103 :: 120\n",
      "bake: frame 104 :: 120\n",
      "bake: frame 105 :: 120\n",
      "bake: frame 106 :: 120\n",
      "bake: frame 107 :: 120\n",
      "bake: frame 108 :: 120\n",
      "bake: frame 109 :: 120\n",
      "bake: frame 110 :: 120\n",
      "bake: frame 111 :: 120\n",
      "bake: frame 112 :: 120\n",
      "bake: frame 113 :: 120\n",
      "bake: frame 114 :: 120\n",
      "bake: frame 115 :: 120\n",
      "bake: frame 116 :: 120\n",
      "bake: frame 117 :: 120\n",
      "bake: frame 118 :: 120\n",
      "bake: frame 119 :: 120\n",
      "bake: frame 120 :: 120\n"
     ]
    }
   ],
   "source": [
    "config = sample_configs[0]\n",
    "\n",
    "print(\"Clearing all objects!\")\n",
    "from simulation.blender_util.collection import remove_all_collections\n",
    "\n",
    "remove_all_collections()\n",
    "\n",
    "\n",
    "sample_key = f\"{config['sample_id']}_{config['garment_name']}_{config['grip_vertex_idx']}\"\n",
    "sample_dir = OUTPUT_ROOT / sample_key\n",
    "# Make the output sample directory if it doesn't exist.\n",
    "sample_dir.mkdir(exist_ok=True)\n",
    "\n",
    "result_file = \"simulation_result.pk\"\n",
    "result_path = sample_dir / result_file\n",
    "\n",
    "# Get a dictionary containing the data for this sample garment.\n",
    "sample_data = accessor.get_sample_data(**config)\n",
    "\n",
    "# garment_info = accessor.reader.read_info(config[\"sample_id\"])\n",
    "garment_info_mat_filename = CLOTH3D_PATH / config[\"sample_id\"] / \"info.mat\"\n",
    "# print(garment_info_mat_filename)\n",
    "garment_info = loadInfo(garment_info_mat_filename)\n",
    "\n",
    "if result_path.exists():\n",
    "    # print(f\"WARNING! Result file, '{result_path}', already exists! Skipping this run. Reading result instead\")\n",
    "    # result_data = pickle.load(result_path.open('rb'))\n",
    "    # continue\n",
    "    print(\"Results exist but resimulating for debug\")\n",
    "# else:\n",
    "if True:\n",
    "    args_dict = dict()\n",
    "    args_dict.update(config)\n",
    "    args_dict.update(sample_data)\n",
    "    args_dict[\"simulation_duration_pair\"] = (0, 120)\n",
    "\n",
    "    result_data = smpl_simulation_pipeline(**args_dict)\n",
    "\n"
   ]
  },
  {
   "cell_type": "code",
   "execution_count": 31,
   "metadata": {},
   "outputs": [
    {
     "name": "stdout",
     "output_type": "stream",
     "text": [
      "dict_keys(['human_verts', 'human_faces', 'human_gender', 'garment_verts', 'garment_faces', 'garment_uv_verts', 'garment_uv_faces', 'garment_fabric', 'garment_texture'])\n"
     ]
    }
   ],
   "source": [
    "print(sample_data.keys())"
   ]
  },
  {
   "cell_type": "code",
   "execution_count": 6,
   "metadata": {},
   "outputs": [],
   "source": [
    "## Dylan added for controlling cloth via fake gripper so that we can lower it onto a plane.\n",
    "# NOTE: Can use blender_util.mesh.mesh_to_numpy(cloth_obj, global_coordinate=True?) to get \n",
    "# cloth's mesh as np array.\n",
    "# TODO: Figure out how to change the coordinate frame. OR I could do this after the fact.\n",
    "# TODO: Can I only simulate once by using Blender's shape keys?\n",
    "\n",
    "# Add arguments for lowering the cloth onto the table.\n",
    "grip_lowering_args = {\n",
    "    \"initial_sim_end_frame\": 120,\n",
    "    # \"start_frame\": 1,\n",
    "    \"end_frame\": 100,  # Just for debugging now. Will increase duration once I know it works.\n",
    "    \"fraction_lowered\": 0.15, # Fraction of the cloth that will be lowered \n",
    "}\n",
    "\n",
    "cloth_obj = bpy.data.objects[\"cloth\"]\n",
    "\n",
    "# Cloth modifier is named 'CLOTH' and is accessed with cloth_obj.modifiers['CLOTH']"
   ]
  },
  {
   "cell_type": "code",
   "execution_count": 7,
   "metadata": {},
   "outputs": [
    {
     "data": {
      "text/plain": [
       "bpy_types.Object"
      ]
     },
     "execution_count": 7,
     "metadata": {},
     "output_type": "execute_result"
    }
   ],
   "source": [
    "type(cloth_obj)"
   ]
  },
  {
   "cell_type": "code",
   "execution_count": 8,
   "metadata": {},
   "outputs": [
    {
     "name": "stdout",
     "output_type": "stream",
     "text": [
      "RNA_boolean_get: OBJECT_OT_modifier_apply_as_shapekey.single_user not found.\n",
      "RNA_boolean_get: OBJECT_OT_modifier_apply_as_shapekey.merge_customdata not found.\n"
     ]
    },
    {
     "data": {
      "text/plain": [
       "{'FINISHED'}"
      ]
     },
     "execution_count": 8,
     "metadata": {},
     "output_type": "execute_result"
    }
   ],
   "source": [
    "# Add shape keys for the hook modifier and the cloth modifier?\n",
    "# NOTE: No hook modifier is present, just the cloth modifier.\n",
    "\n",
    "# TODO: I might have to set the cloth object as the active object\n",
    "# print(bpy.context.active_object)  # This seems to indicate the cloth is the active object.\n",
    "\n",
    "# First, set the active frame to one that is after the initial simulation.\n",
    "# TODO: Update this with the args_dict value in the final big for loop.\n",
    "bpy.context.scene.frame_set(grip_lowering_args[\"initial_sim_end_frame\"] + 1)\n",
    "\n",
    "# Then, apply the cloth modifier as a shapekey.\n",
    "bpy.ops.object.modifier_apply_as_shapekey(keep_modifier=True, modifier=\"CLOTH\")\n",
    "\n",
    "\n"
   ]
  },
  {
   "cell_type": "code",
   "execution_count": 10,
   "metadata": {},
   "outputs": [],
   "source": [
    "# Set the mesh's default shape to the shape of the shape key we just created.\n",
    "set_obj_default_shape_from_shape_key(cloth_obj, \"CLOTH\", verbose=True)"
   ]
  },
  {
   "cell_type": "code",
   "execution_count": 11,
   "metadata": {},
   "outputs": [
    {
     "name": "stdout",
     "output_type": "stream",
     "text": [
      "Info: Total files 0 | Changed 0 | Failed 0\n",
      "Info: Saved \"full_simulation_prototyping_lowering_checkpoint_1.blend\"\n"
     ]
    },
    {
     "data": {
      "text/plain": [
       "{'FINISHED'}"
      ]
     },
     "execution_count": 11,
     "metadata": {},
     "output_type": "execute_result"
    }
   ],
   "source": [
    "# Save this as a checkpoint to make sure things look okay.\n",
    "blend_filepath = sample_dir / \"full_simulation_prototyping_lowering_checkpoint_1.blend\"\n",
    "bpy.ops.wm.save_as_mainfile(filepath=blend_filepath.as_posix())"
   ]
  },
  {
   "cell_type": "code",
   "execution_count": 12,
   "metadata": {},
   "outputs": [
    {
     "data": {
      "text/plain": [
       "{'FINISHED'}"
      ]
     },
     "execution_count": 12,
     "metadata": {},
     "output_type": "execute_result"
    }
   ],
   "source": [
    "# Reset to the 1st frame of the simulation.\n",
    "# TODO: Figure out if this is 1 or 0. I believe it's 0.\n",
    "# bpy.context.scene.frame_set(0)\n",
    "bpy.context.scene.frame_set(1)\n",
    "\n",
    "# Delete the physics cache.\n",
    "bpy.ops.ptcache.free_bake_all()"
   ]
  },
  {
   "cell_type": "code",
   "execution_count": 13,
   "metadata": {},
   "outputs": [
    {
     "name": "stdout",
     "output_type": "stream",
     "text": [
      "<bpy_struct, VertexGroup(\"pin\") at 0x633abc8>\n"
     ]
    }
   ],
   "source": [
    "# Just checking that the \"pin\" VertexGroup is here.\n",
    "print(cloth_obj.vertex_groups[0])"
   ]
  },
  {
   "cell_type": "code",
   "execution_count": 14,
   "metadata": {},
   "outputs": [
    {
     "data": {
      "text/plain": [
       "{'FINISHED'}"
      ]
     },
     "execution_count": 14,
     "metadata": {},
     "output_type": "execute_result"
    }
   ],
   "source": [
    "# Add a hook to a new empty so that we can control the cloth and lower it onto the \"table\"\n",
    "bpy.ops.object.editmode_toggle()\n",
    "bpy.ops.object.vertex_group_set_active(group=\"pin\")\n",
    "bpy.ops.object.hook_add_newob()\n",
    "bpy.ops.object.editmode_toggle()"
   ]
  },
  {
   "cell_type": "code",
   "execution_count": 15,
   "metadata": {},
   "outputs": [],
   "source": [
    "# Check that the new \"Empty\" object was created.\n",
    "all_obj_names = [o.name for o in bpy.data.objects]\n",
    "assert (\"Empty\" in all_obj_names)\n",
    "# for obj in bpy.data.objects:\n",
    "#     print(obj.name)"
   ]
  },
  {
   "cell_type": "code",
   "execution_count": 17,
   "metadata": {},
   "outputs": [
    {
     "name": "stdout",
     "output_type": "stream",
     "text": [
      "cloth\n"
     ]
    }
   ],
   "source": [
    "# Ensure that the cloth object is the selected one.\n",
    "# print(bpy.context.active_object.name)"
   ]
  },
  {
   "cell_type": "code",
   "execution_count": 19,
   "metadata": {},
   "outputs": [],
   "source": [
    "# Move the newly created hook modifier to be above the CLOTH modifier so that it takes precedent.\n",
    "# This is required to be able to move the cloth like a gripper.\n",
    "# bpy.ops.object.modifier_set_active(modifier=\"Hook-Empty\")\n",
    "# bpy.ops.object.modifier_move_to_index(modifier=\"Hook-Empty\", index=0)\n",
    "\n",
    "make_modifier_highest_priority(\"Hook-Empty\")"
   ]
  },
  {
   "cell_type": "code",
   "execution_count": 22,
   "metadata": {},
   "outputs": [
    {
     "name": "stdout",
     "output_type": "stream",
     "text": [
      "<bpy_struct, Object(\"Empty\") at 0x7497348>\n"
     ]
    }
   ],
   "source": [
    "## Add animation of the virtual gripper. We'll lower the cloth onto the table over some period of \n",
    "# time, then stay stationary for a brief period of time to let the cloth settle.\n",
    "\n",
    "# Get the minimum Z value of all vertices.\n",
    "min_z_val = result_data['cloth_state']['verts'][:, 2].min()\n",
    "min_z_val_abs = np.abs(min_z_val)\n",
    "\n",
    "# The amount we move the \"gripper\" (empty object) downward should be <fraction_moved> * abs(min_z_val)\n",
    "gripper_dz = min_z_val_abs * grip_lowering_args[\"fraction_lowered\"]\n",
    "\n",
    "# Select the Empty object.\n",
    "bpy.context.view_layer.objects.active = bpy.data.objects[\"Empty\"]\n",
    "print(bpy.context.active_object)"
   ]
  },
  {
   "cell_type": "code",
   "execution_count": 21,
   "metadata": {},
   "outputs": [
    {
     "data": {
      "text/plain": [
       "True"
      ]
     },
     "execution_count": 21,
     "metadata": {},
     "output_type": "execute_result"
    }
   ],
   "source": [
    "# Add keyframe for empty at start frame.\n",
    "bpy.context.scene.frame_set(1)\n",
    "empty_obj = bpy.data.objects[\"Empty\"]\n",
    "empty_obj.keyframe_insert(data_path=\"location\", frame=1)"
   ]
  },
  {
   "cell_type": "code",
   "execution_count": 23,
   "metadata": {},
   "outputs": [],
   "source": [
    "# Move the gripper to the final Z value at the final frame.\n",
    "empty_obj_z_init = empty_obj.location[2]\n",
    "bpy.context.scene.frame_set(grip_lowering_args[\"end_frame\"])\n",
    "empty_obj.location[2] = empty_obj_z_init - gripper_dz\n"
   ]
  },
  {
   "cell_type": "code",
   "execution_count": 24,
   "metadata": {},
   "outputs": [
    {
     "data": {
      "text/plain": [
       "True"
      ]
     },
     "execution_count": 24,
     "metadata": {},
     "output_type": "execute_result"
    }
   ],
   "source": [
    "# Now insert another keyframe at the final frame so that Blender will animate the movement for us.\n",
    "empty_obj.keyframe_insert(data_path=\"location\", frame=grip_lowering_args[\"end_frame\"])"
   ]
  },
  {
   "cell_type": "code",
   "execution_count": 25,
   "metadata": {},
   "outputs": [
    {
     "name": "stdout",
     "output_type": "stream",
     "text": [
      "Info: Saved \"full_simulation_prototyping_lowering_checkpoint_2.blend\"\n"
     ]
    },
    {
     "data": {
      "text/plain": [
       "{'FINISHED'}"
      ]
     },
     "execution_count": 25,
     "metadata": {},
     "output_type": "execute_result"
    }
   ],
   "source": [
    "# Save this all as a .blend file so we can make sure it looks right so far.\n",
    "blend_filepath = sample_dir / \"full_simulation_prototyping_lowering_checkpoint_2.blend\"\n",
    "bpy.ops.wm.save_as_mainfile(filepath=blend_filepath.as_posix())"
   ]
  },
  {
   "cell_type": "code",
   "execution_count": 28,
   "metadata": {},
   "outputs": [],
   "source": [
    "# Add a plane below the lowest vertex value from the initial simulation. This is what we'll \n",
    "# lower the mesh onto to deform it. \n",
    "# NOTE: The plane must be in the same collection as the cloth.\n",
    "#       Additionally, the plane must have collision physics turned on.\n",
    "add_collision_plane(min_z_val, PLANE_OFFSET)"
   ]
  },
  {
   "cell_type": "code",
   "execution_count": 29,
   "metadata": {},
   "outputs": [
    {
     "name": "stdout",
     "output_type": "stream",
     "text": [
      "bake: frame 0 :: 100\n",
      "bake: frame 1 :: 100\n",
      "bake: frame 2 :: 100\n",
      "bake: frame 3 :: 100\n",
      "bake: frame 4 :: 100\n",
      "bake: frame 5 :: 100\n",
      "bake: frame 6 :: 100\n",
      "bake: frame 7 :: 100\n",
      "bake: frame 8 :: 100\n",
      "bake: frame 9 :: 100\n",
      "bake: frame 10 :: 100\n",
      "bake: frame 11 :: 100\n",
      "bake: frame 12 :: 100\n",
      "bake: frame 13 :: 100\n",
      "bake: frame 14 :: 100\n",
      "bake: frame 15 :: 100\n",
      "bake: frame 16 :: 100\n",
      "bake: frame 17 :: 100\n",
      "bake: frame 18 :: 100\n",
      "bake: frame 19 :: 100\n",
      "bake: frame 20 :: 100\n",
      "bake: frame 21 :: 100\n",
      "bake: frame 22 :: 100\n",
      "bake: frame 23 :: 100\n",
      "bake: frame 24 :: 100\n",
      "bake: frame 25 :: 100\n",
      "bake: frame 26 :: 100\n",
      "bake: frame 27 :: 100\n",
      "bake: frame 28 :: 100\n",
      "bake: frame 29 :: 100\n",
      "bake: frame 30 :: 100\n",
      "bake: frame 31 :: 100\n",
      "bake: frame 32 :: 100\n",
      "bake: frame 33 :: 100\n",
      "bake: frame 34 :: 100\n",
      "bake: frame 35 :: 100\n",
      "bake: frame 36 :: 100\n",
      "bake: frame 37 :: 100\n",
      "bake: frame 38 :: 100\n",
      "bake: frame 39 :: 100\n",
      "bake: frame 40 :: 100\n",
      "bake: frame 41 :: 100\n",
      "bake: frame 42 :: 100\n",
      "bake: frame 43 :: 100\n",
      "bake: frame 44 :: 100\n",
      "bake: frame 45 :: 100\n",
      "bake: frame 46 :: 100\n",
      "bake: frame 47 :: 100\n",
      "bake: frame 48 :: 100\n",
      "bake: frame 49 :: 100\n",
      "bake: frame 50 :: 100\n",
      "bake: frame 51 :: 100\n",
      "bake: frame 52 :: 100\n",
      "bake: frame 53 :: 100\n",
      "bake: frame 54 :: 100\n",
      "bake: frame 55 :: 100\n",
      "bake: frame 56 :: 100\n",
      "bake: frame 57 :: 100\n",
      "bake: frame 58 :: 100\n",
      "bake: frame 59 :: 100\n",
      "bake: frame 60 :: 100\n",
      "bake: frame 61 :: 100\n",
      "bake: frame 62 :: 100\n",
      "bake: frame 63 :: 100\n",
      "bake: frame 64 :: 100\n",
      "bake: frame 65 :: 100\n",
      "bake: frame 66 :: 100\n",
      "bake: frame 67 :: 100\n",
      "bake: frame 68 :: 100\n",
      "bake: frame 69 :: 100\n",
      "bake: frame 70 :: 100\n",
      "bake: frame 71 :: 100\n",
      "bake: frame 72 :: 100\n",
      "bake: frame 73 :: 100\n",
      "bake: frame 74 :: 100\n",
      "bake: frame 75 :: 100\n",
      "bake: frame 76 :: 100\n",
      "bake: frame 77 :: 100\n",
      "bake: frame 78 :: 100\n",
      "bake: frame 79 :: 100\n",
      "bake: frame 80 :: 100\n",
      "bake: frame 81 :: 100\n",
      "bake: frame 82 :: 100\n",
      "bake: frame 83 :: 100\n",
      "bake: frame 84 :: 100\n",
      "bake: frame 85 :: 100\n",
      "bake: frame 86 :: 100\n",
      "bake: frame 87 :: 100\n",
      "bake: frame 88 :: 100\n",
      "bake: frame 89 :: 100\n",
      "bake: frame 90 :: 100\n",
      "bake: frame 91 :: 100\n",
      "bake: frame 92 :: 100\n",
      "bake: frame 93 :: 100\n",
      "bake: frame 94 :: 100\n",
      "bake: frame 95 :: 100\n",
      "bake: frame 96 :: 100\n",
      "bake: frame 97 :: 100\n",
      "bake: frame 98 :: 100\n",
      "bake: frame 99 :: 100\n",
      "bake: frame 100 :: 100\n"
     ]
    }
   ],
   "source": [
    "# Clear the bake cache for the physics.\n",
    "bpy.ops.ptcache.free_bake_all()\n",
    "\n",
    "# Select the cloth object.\n",
    "bpy.context.view_layer.objects.active = bpy.data.objects[\"cloth\"]\n",
    "\n",
    "# Change the physics simulation to last as long as we specify above.\n",
    "cloth_modifier = bpy.context.object.modifiers[\"CLOTH\"]\n",
    "cloth_modifier.point_cache.frame_start = 0\n",
    "cloth_modifier.point_cache.frame_end = grip_lowering_args[\"end_frame\"]\n",
    "cloth_modifier.collision_settings.use_collision = True\n",
    "cloth_modifier.collision_settings.distance_min = 0.005\n",
    "\n",
    "\n",
    "# Bake the physics\n",
    "run_simulation(cloth_obj, cloth_modifier.point_cache)"
   ]
  },
  {
   "cell_type": "code",
   "execution_count": 29,
   "metadata": {},
   "outputs": [
    {
     "name": "stdout",
     "output_type": "stream",
     "text": [
      "Info: Saved \"full_simulation_prototyping_lowering_checkpoint_3.blend\"\n"
     ]
    },
    {
     "data": {
      "text/plain": [
       "{'FINISHED'}"
      ]
     },
     "execution_count": 29,
     "metadata": {},
     "output_type": "execute_result"
    }
   ],
   "source": [
    "# Save the final checkpoint to make sure it all looks good.\n",
    "blend_filepath = sample_dir / \"full_simulation_prototyping_lowering_checkpoint_3.blend\"\n",
    "bpy.ops.wm.save_as_mainfile(filepath=blend_filepath.as_posix())"
   ]
  },
  {
   "cell_type": "code",
   "execution_count": 30,
   "metadata": {},
   "outputs": [],
   "source": [
    "\n",
    "\n",
    "\n",
    "\n",
    "\n",
    "\n",
    "\n",
    "\n",
    "\n",
    "\n",
    "\n",
    "\n",
    "\n",
    "\n",
    "\n",
    "\n",
    "# Now bake the physics\n",
    "\n",
    "# Get meshes from all frames of the physics as numpy arrays.\n",
    "# TODO: Figure out if I should start at frame 0 or 1. I think starting from 0 is correct\n",
    "# animated_meshes = []\n",
    "# for i in range(grip_lowering_args[\"end_frame\"]):\n",
    "#     bpy.context.scene.frame_set(i)\n",
    "#     mesh_data_i = mesh_to_numpy(cloth_obj, global_coordinate=True)\n",
    "#     animated_meshes.append(mesh_data_i)\n",
    "# animated_meshes_np = np.stack(animated_meshes, axis=0)\n",
    "\n",
    "# # Add the meshes from the lowering simulation to the result dictionary and save it.\n",
    "\n",
    "\n",
    "\n",
    "\n",
    "\n",
    "# if SAVE_BLEND_FILES:\n",
    "#     blend_filepath = sample_dir / \"full_simulation_prototyping_lowering.blend\"\n",
    "#     bpy.ops.wm.save_as_mainfile(filepath=blend_filepath.as_posix())\n",
    "\n",
    "# print(f\"Writing simulation results to '{result_path}'\")\n",
    "# pickle.dump(result_data, result_path.open('wb'))\n",
    "# print(\"Done!\")"
   ]
  },
  {
   "cell_type": "code",
   "execution_count": null,
   "metadata": {},
   "outputs": [],
   "source": []
  },
  {
   "cell_type": "code",
   "execution_count": null,
   "metadata": {},
   "outputs": [],
   "source": []
  },
  {
   "cell_type": "code",
   "execution_count": null,
   "metadata": {},
   "outputs": [],
   "source": []
  },
  {
   "cell_type": "code",
   "execution_count": null,
   "metadata": {},
   "outputs": [],
   "source": []
  },
  {
   "cell_type": "code",
   "execution_count": null,
   "metadata": {},
   "outputs": [],
   "source": []
  },
  {
   "cell_type": "code",
   "execution_count": null,
   "metadata": {},
   "outputs": [],
   "source": []
  }
 ],
 "metadata": {
  "kernelspec": {
   "display_name": "Python 3.10.11 ('simulation-7NaVsHdv')",
   "language": "python",
   "name": "python3"
  },
  "language_info": {
   "codemirror_mode": {
    "name": "ipython",
    "version": 3
   },
   "file_extension": ".py",
   "mimetype": "text/x-python",
   "name": "python",
   "nbconvert_exporter": "python",
   "pygments_lexer": "ipython3",
   "version": "3.10.11"
  },
  "orig_nbformat": 4,
  "vscode": {
   "interpreter": {
    "hash": "ed7f320b0bb21722de29e1b61058df1eb6cc93ec2c9b7f0e9041cd394f87c774"
   }
  }
 },
 "nbformat": 4,
 "nbformat_minor": 2
}
