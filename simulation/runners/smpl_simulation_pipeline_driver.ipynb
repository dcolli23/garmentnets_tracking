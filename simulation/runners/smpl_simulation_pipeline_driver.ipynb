{
 "cells": [
  {
   "cell_type": "code",
   "execution_count": 1,
   "metadata": {},
   "outputs": [
    {
     "name": "stdout",
     "output_type": "stream",
     "text": [
      "WARN (bgl): source/blender/python/generic/bgl.c:2654 BPyInit_bgl: 'bgl' imported without an OpenGL backend. Please update your add-ons to use the 'gpu' module. In Blender 4.0 'bgl' will be removed.\n",
      "Jupyter environment detected. Enabling Open3D WebVisualizer.\n",
      "[Open3D INFO] WebRTC GUI backend enabled.\n",
      "[Open3D INFO] WebRTCWindowSystem: HTTP handshake server disabled.\n"
     ]
    },
    {
     "name": "stderr",
     "output_type": "stream",
     "text": [
      "/home/dcolli23/.local/share/virtualenvs/simulation-7NaVsHdv/lib/python3.10/site-packages/numpy/core/getlimits.py:518: UserWarning: The value of the smallest subnormal for <class 'numpy.float64'> type is zero.\n",
      "  setattr(self, word, getattr(machar, word).flat[0])\n",
      "/home/dcolli23/.local/share/virtualenvs/simulation-7NaVsHdv/lib/python3.10/site-packages/numpy/core/getlimits.py:89: UserWarning: The value of the smallest subnormal for <class 'numpy.float64'> type is zero.\n",
      "  return self._float_to_str(self.smallest_subnormal)\n",
      "/home/dcolli23/.local/share/virtualenvs/simulation-7NaVsHdv/lib/python3.10/site-packages/numpy/core/getlimits.py:518: UserWarning: The value of the smallest subnormal for <class 'numpy.float32'> type is zero.\n",
      "  setattr(self, word, getattr(machar, word).flat[0])\n",
      "/home/dcolli23/.local/share/virtualenvs/simulation-7NaVsHdv/lib/python3.10/site-packages/numpy/core/getlimits.py:89: UserWarning: The value of the smallest subnormal for <class 'numpy.float32'> type is zero.\n",
      "  return self._float_to_str(self.smallest_subnormal)\n"
     ]
    }
   ],
   "source": [
    "import os\n",
    "import sys\n",
    "from pathlib import Path\n",
    "import pickle\n",
    "\n",
    "import bpy\n",
    "import open3d as o3d\n",
    "import numpy as np\n",
    "\n",
    "sys.path.append(\"../../\")\n",
    "sys.path.append(\"../\")\n",
    "from simulation.cloth_3d_util.accessor import Cloth3DCanonicalAccessor\n",
    "from simulation.pipeline.smpl_simulation_pipeline import smpl_simulation_pipeline\n",
    "from simulation.cloth_3d_util.util import loadInfo, quads2tris\n",
    "\n",
    "%load_ext autoreload\n",
    "%autoreload 2"
   ]
  },
  {
   "cell_type": "code",
   "execution_count": 2,
   "metadata": {},
   "outputs": [],
   "source": [
    "FILE_ROOT = Path(os.getcwd())\n",
    "CLOTH3D_PATH = Path(os.path.expanduser(\"~/DataLocker/datasets/CLOTH3D/training/\"))\n",
    "OUTPUT_ROOT = FILE_ROOT / \"..\" / \"script_output\" / \"sim_pipeline_driver_test\"\n",
    "\n",
    "# Make the output directory if it doesn't exist.\n",
    "OUTPUT_ROOT.mkdir(exist_ok=True)"
   ]
  },
  {
   "cell_type": "code",
   "execution_count": 3,
   "metadata": {},
   "outputs": [],
   "source": [
    "sample_configuration = {\n",
    "    \"sample_id\": \"00380\",\n",
    "    \"garment_name\": \"Tshirt\",\n",
    "    \"grip_vertex_idx\": 0\n",
    "}\n",
    "\n",
    "sample_configs = [sample_configuration]"
   ]
  },
  {
   "cell_type": "code",
   "execution_count": 4,
   "metadata": {},
   "outputs": [],
   "source": [
    "accessor = Cloth3DCanonicalAccessor(CLOTH3D_PATH)"
   ]
  },
  {
   "cell_type": "code",
   "execution_count": 15,
   "metadata": {},
   "outputs": [
    {
     "name": "stdout",
     "output_type": "stream",
     "text": [
      "WARNING! Result file, '/home/dcolli23/code/school/rob599_deeprob/projects/final/garmentnets_tracking/simulation/runners/../script_output/sim_pipeline_driver_test/00380_Tshirt_0/simulation_result.pk', already exists! Skipping this run. Reading result instead\n"
     ]
    }
   ],
   "source": [
    "for config in sample_configs:\n",
    "    sample_key = f\"{config['sample_id']}_{config['garment_name']}_{config['grip_vertex_idx']}\"\n",
    "    sample_dir = OUTPUT_ROOT / sample_key\n",
    "    # Make the output sample directory if it doesn't exist.\n",
    "    sample_dir.mkdir(exist_ok=True)\n",
    "\n",
    "    result_file = \"simulation_result.pk\"\n",
    "    result_path = sample_dir / result_file\n",
    "\n",
    "    # Get a dictionary containing the data for this sample garment.\n",
    "    sample_data = accessor.get_sample_data(**config)\n",
    "\n",
    "    # garment_info = accessor.reader.read_info(config[\"sample_id\"])\n",
    "    garment_info_mat_filename = CLOTH3D_PATH / config[\"sample_id\"] / \"info.mat\"\n",
    "    # print(garment_info_mat_filename)\n",
    "    garment_info = loadInfo(garment_info_mat_filename)\n",
    "\n",
    "    if result_path.exists():\n",
    "        print(f\"WARNING! Result file, '{result_path}', already exists! Skipping this run. Reading result instead\")\n",
    "        result_data = pickle.load(result_path.open('rb'))\n",
    "        continue\n",
    "\n",
    "    \n",
    "\n",
    "    args_dict = dict()\n",
    "    args_dict.update(config)\n",
    "    args_dict.update(sample_data)\n",
    "    args_dict[\"simulation_duration_pair\"] = (0, 120)\n",
    "\n",
    "    result_data = smpl_simulation_pipeline(**args_dict)\n",
    "\n",
    "    print(f\"Writing simulation results to '{result_path}'\")\n",
    "    pickle.dump(result_data, result_path.open('wb'))\n",
    "    print(\"Done!\")"
   ]
  },
  {
   "cell_type": "code",
   "execution_count": 16,
   "metadata": {},
   "outputs": [
    {
     "name": "stdout",
     "output_type": "stream",
     "text": [
      "dict_keys(['cloth_state', 'grip_vertex_idx'])\n"
     ]
    }
   ],
   "source": [
    "print(result_data.keys())"
   ]
  },
  {
   "cell_type": "code",
   "execution_count": 17,
   "metadata": {},
   "outputs": [
    {
     "data": {
      "text/plain": [
       "dict_keys(['verts', 'edges', 'faces', 'uv_verts', 'uv_faces'])"
      ]
     },
     "execution_count": 17,
     "metadata": {},
     "output_type": "execute_result"
    }
   ],
   "source": [
    "result_data['cloth_state'].keys()"
   ]
  },
  {
   "cell_type": "code",
   "execution_count": 18,
   "metadata": {},
   "outputs": [
    {
     "name": "stdout",
     "output_type": "stream",
     "text": [
      "{'data': array([0.14440767, 0.86416321, 0.31548023]), 'type': 'color'}\n"
     ]
    }
   ],
   "source": [
    "garment_info[\"outfit\"][\"Tshirt\"].keys()\n",
    "\n",
    "print(garment_info[\"outfit\"][\"Tshirt\"][\"texture\"])\n",
    "pc_rgb = garment_info[\"outfit\"][\"Tshirt\"][\"texture\"][\"data\"]"
   ]
  },
  {
   "cell_type": "code",
   "execution_count": 19,
   "metadata": {},
   "outputs": [
    {
     "name": "stdout",
     "output_type": "stream",
     "text": [
      "Number of vertices: 4762\n"
     ]
    }
   ],
   "source": [
    "cloth_state = result_data[\"cloth_state\"]\n",
    "mesh_verts = cloth_state[\"verts\"]\n",
    "mesh_faces = cloth_state[\"faces\"]\n",
    "mesh_triangles = quads2tris(mesh_faces)\n",
    "\n",
    "num_verts = mesh_verts.shape[0]\n",
    "print(\"Number of vertices:\", num_verts)\n",
    "\n",
    "# I think the point cloud points are just the vertices but I'm not sure\n",
    "pc_point = mesh_verts"
   ]
  },
  {
   "cell_type": "code",
   "execution_count": 22,
   "metadata": {},
   "outputs": [],
   "source": [
    "\n",
    "\n",
    "# I think this is just a numpy.arange for the vertices.\n",
    "# pc_keypoint_idx = point_cloud_group[\"human_nn_idx\"][:].squeeze()\n",
    "pc_keypoint_idx = np.arange(num_verts)\n",
    "# keypoint_colors = np.random.random((pc_keypoint_idx.max() + 1, 3))\n",
    "keypoint_colors = np.random.random((num_verts, 3))\n",
    "\n",
    "# cloth_vert_human_nn_idx = misc_group['cloth_vert_human_nn_idx'][:]\n",
    "\n",
    "\n",
    "pc_rgb_color = pc_rgb.astype(np.float32)# / 255\n",
    "pc_keypoint_color = keypoint_colors[pc_keypoint_idx]\n",
    "\n",
    "pcd = o3d.geometry.PointCloud()\n",
    "pcd.points = o3d.utility.Vector3dVector(pc_point)\n",
    "# pcd.colors = o3d.utility.Vector3dVector(pc_rgb_color)\n",
    "# pcd.colors = o3d.utility.Vector3dVector(pc_keypoint_color)\n",
    "\n",
    "# mesh_verts_shifted = np.array(mesh_verts)\n",
    "# mesh_verts_shifted[:,0] += 0.5\n",
    "\n",
    "# mesh = o3d.geometry.TriangleMesh()\n",
    "# mesh.vertices = o3d.utility.Vector3dVector(mesh_verts_shifted)\n",
    "# mesh.triangles = o3d.utility.Vector3iVector(mesh_triangles)\n",
    "# mesh.vertex_colors = o3d.utility.Vector3dVector(keypoint_colors[cloth_vert_human_nn_idx])\n",
    "\n",
    "# o3d.visualization.draw_geometries([pcd, mesh], mesh_show_wireframe=True, mesh_show_back_face=True)\n",
    "\n",
    "o3d.visualization.draw_geometries([pcd])"
   ]
  },
  {
   "cell_type": "code",
   "execution_count": null,
   "metadata": {},
   "outputs": [],
   "source": []
  }
 ],
 "metadata": {
  "kernelspec": {
   "display_name": "Python 3",
   "language": "python",
   "name": "python3"
  },
  "language_info": {
   "codemirror_mode": {
    "name": "ipython",
    "version": 3
   },
   "file_extension": ".py",
   "mimetype": "text/x-python",
   "name": "python",
   "nbconvert_exporter": "python",
   "pygments_lexer": "ipython3",
   "version": "3.10.11"
  },
  "orig_nbformat": 4
 },
 "nbformat": 4,
 "nbformat_minor": 2
}
